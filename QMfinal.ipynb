{
 "cells": [
  {
   "cell_type": "code",
   "execution_count": null,
   "metadata": {},
   "outputs": [],
   "source": [
    "pip install plotly"
   ]
  },
  {
   "cell_type": "code",
   "execution_count": 1,
   "metadata": {},
   "outputs": [],
   "source": [
    "import numpy as np\n",
    "import pandas as pd\n",
    "from pandas import plotting\n",
    "import scipy.cluster.hierarchy as sch\n",
    "from sklearn.cluster import KMeans\n",
    "import matplotlib.pyplot as plt\n",
    "import seaborn as sns\n",
    "plt.style.use('fivethirtyeight')\n",
    "from sklearn.preprocessing import StandardScaler\n",
    "from sklearn.preprocessing import RobustScaler\n",
    "import sklearn.cluster as sklc\n",
    "import sklearn.metrics as sklm\n",
    "from sklearn.metrics import silhouette_samples, silhouette_score\n",
    "from scipy import stats\n",
    "from scipy.stats import bartlett\n",
    "import plotly.graph_objs as go\n",
    "import plotly.offline as py"
   ]
  },
  {
   "cell_type": "code",
   "execution_count": 2,
   "metadata": {},
   "outputs": [
    {
     "name": "stdout",
     "output_type": "stream",
     "text": [
      "['dbn' 'school_name' 'school_type' 'enrollment' 'survey_pp_RI'\n",
      " 'survey_pp_CT' 'survey_pp_SE' 'survey_pp_ES' 'survey_pp_SF' 'suvey_pp_TR'\n",
      " 'ELL' 'IEP' 'cap_sc_pct' 'eni_pct' 'temp_housing_pct' 'hra_elig_pct'\n",
      " 'white' 'n_prof_pct_mth_all']\n"
     ]
    }
   ],
   "source": [
    "data = pd.read_csv('k8.csv')\n",
    "print(data.columns.values)"
   ]
  },
  {
   "cell_type": "code",
   "execution_count": 3,
   "metadata": {
    "scrolled": true
   },
   "outputs": [
    {
     "name": "stdout",
     "output_type": "stream",
     "text": [
      "<class 'pandas.core.frame.DataFrame'>\n",
      "RangeIndex: 222 entries, 0 to 221\n",
      "Data columns (total 18 columns):\n",
      " #   Column              Non-Null Count  Dtype  \n",
      "---  ------              --------------  -----  \n",
      " 0   dbn                 222 non-null    object \n",
      " 1   school_name         222 non-null    object \n",
      " 2   school_type         222 non-null    object \n",
      " 3   enrollment          222 non-null    int64  \n",
      " 4   survey_pp_RI        222 non-null    float64\n",
      " 5   survey_pp_CT        222 non-null    float64\n",
      " 6   survey_pp_SE        222 non-null    float64\n",
      " 7   survey_pp_ES        222 non-null    float64\n",
      " 8   survey_pp_SF        222 non-null    float64\n",
      " 9   suvey_pp_TR         222 non-null    float64\n",
      " 10  ELL                 222 non-null    float64\n",
      " 11  IEP                 222 non-null    float64\n",
      " 12  cap_sc_pct          222 non-null    float64\n",
      " 13  eni_pct             222 non-null    float64\n",
      " 14  temp_housing_pct    222 non-null    float64\n",
      " 15  hra_elig_pct        222 non-null    float64\n",
      " 16  white               222 non-null    float64\n",
      " 17  n_prof_pct_mth_all  222 non-null    int64  \n",
      "dtypes: float64(13), int64(2), object(3)\n",
      "memory usage: 31.3+ KB\n"
     ]
    }
   ],
   "source": [
    "data.info()"
   ]
  },
  {
   "cell_type": "code",
   "execution_count": 4,
   "metadata": {},
   "outputs": [],
   "source": [
    "data['MathLevelRate'] = data['n_prof_pct_mth_all']/data['enrollment']"
   ]
  },
  {
   "cell_type": "code",
   "execution_count": 5,
   "metadata": {},
   "outputs": [],
   "source": [
    "data['OverallQuality'] = data[['survey_pp_RI','survey_pp_CT','survey_pp_SE','survey_pp_ES','survey_pp_SF','suvey_pp_TR']].mean(axis=1)"
   ]
  },
  {
   "cell_type": "code",
   "execution_count": 7,
   "metadata": {},
   "outputs": [],
   "source": [
    "data = data[['dbn', 'school_name', 'school_type', 'enrollment', \n",
    " 'ELL', 'IEP', 'cap_sc_pct', 'eni_pct', 'temp_housing_pct', 'hra_elig_pct',\n",
    " 'white', 'MathLevelRate','OverallQuality']]"
   ]
  },
  {
   "cell_type": "code",
   "execution_count": 8,
   "metadata": {},
   "outputs": [
    {
     "data": {
      "text/html": [
       "<div>\n",
       "<style scoped>\n",
       "    .dataframe tbody tr th:only-of-type {\n",
       "        vertical-align: middle;\n",
       "    }\n",
       "\n",
       "    .dataframe tbody tr th {\n",
       "        vertical-align: top;\n",
       "    }\n",
       "\n",
       "    .dataframe thead th {\n",
       "        text-align: right;\n",
       "    }\n",
       "</style>\n",
       "<table border=\"1\" class=\"dataframe\">\n",
       "  <thead>\n",
       "    <tr style=\"text-align: right;\">\n",
       "      <th></th>\n",
       "      <th>enrollment</th>\n",
       "      <th>ELL</th>\n",
       "      <th>IEP</th>\n",
       "      <th>cap_sc_pct</th>\n",
       "      <th>eni_pct</th>\n",
       "      <th>temp_housing_pct</th>\n",
       "      <th>hra_elig_pct</th>\n",
       "      <th>white</th>\n",
       "      <th>MathLevelRate</th>\n",
       "      <th>OverallQuality</th>\n",
       "    </tr>\n",
       "  </thead>\n",
       "  <tbody>\n",
       "    <tr>\n",
       "      <th>count</th>\n",
       "      <td>222.000000</td>\n",
       "      <td>222.000000</td>\n",
       "      <td>222.000000</td>\n",
       "      <td>222.000000</td>\n",
       "      <td>222.000000</td>\n",
       "      <td>222.000000</td>\n",
       "      <td>222.000000</td>\n",
       "      <td>222.000000</td>\n",
       "      <td>222.000000</td>\n",
       "      <td>222.000000</td>\n",
       "    </tr>\n",
       "    <tr>\n",
       "      <th>mean</th>\n",
       "      <td>666.126126</td>\n",
       "      <td>0.100761</td>\n",
       "      <td>0.196860</td>\n",
       "      <td>0.044477</td>\n",
       "      <td>0.633212</td>\n",
       "      <td>0.125450</td>\n",
       "      <td>0.483221</td>\n",
       "      <td>0.135185</td>\n",
       "      <td>0.633348</td>\n",
       "      <td>0.835863</td>\n",
       "    </tr>\n",
       "    <tr>\n",
       "      <th>std</th>\n",
       "      <td>283.109659</td>\n",
       "      <td>0.087869</td>\n",
       "      <td>0.077537</td>\n",
       "      <td>0.047454</td>\n",
       "      <td>0.215366</td>\n",
       "      <td>0.100247</td>\n",
       "      <td>0.196658</td>\n",
       "      <td>0.199060</td>\n",
       "      <td>0.071316</td>\n",
       "      <td>0.058106</td>\n",
       "    </tr>\n",
       "    <tr>\n",
       "      <th>min</th>\n",
       "      <td>135.000000</td>\n",
       "      <td>0.000000</td>\n",
       "      <td>0.033000</td>\n",
       "      <td>0.000000</td>\n",
       "      <td>0.099000</td>\n",
       "      <td>0.002000</td>\n",
       "      <td>0.027000</td>\n",
       "      <td>0.000000</td>\n",
       "      <td>0.304029</td>\n",
       "      <td>0.670000</td>\n",
       "    </tr>\n",
       "    <tr>\n",
       "      <th>25%</th>\n",
       "      <td>472.250000</td>\n",
       "      <td>0.034250</td>\n",
       "      <td>0.145000</td>\n",
       "      <td>0.006000</td>\n",
       "      <td>0.488250</td>\n",
       "      <td>0.046000</td>\n",
       "      <td>0.341000</td>\n",
       "      <td>0.009000</td>\n",
       "      <td>0.600443</td>\n",
       "      <td>0.798750</td>\n",
       "    </tr>\n",
       "    <tr>\n",
       "      <th>50%</th>\n",
       "      <td>643.000000</td>\n",
       "      <td>0.071500</td>\n",
       "      <td>0.190000</td>\n",
       "      <td>0.029000</td>\n",
       "      <td>0.696000</td>\n",
       "      <td>0.095000</td>\n",
       "      <td>0.523000</td>\n",
       "      <td>0.024000</td>\n",
       "      <td>0.637161</td>\n",
       "      <td>0.840833</td>\n",
       "    </tr>\n",
       "    <tr>\n",
       "      <th>75%</th>\n",
       "      <td>805.750000</td>\n",
       "      <td>0.145250</td>\n",
       "      <td>0.238750</td>\n",
       "      <td>0.066000</td>\n",
       "      <td>0.793750</td>\n",
       "      <td>0.185000</td>\n",
       "      <td>0.628000</td>\n",
       "      <td>0.214000</td>\n",
       "      <td>0.668037</td>\n",
       "      <td>0.875000</td>\n",
       "    </tr>\n",
       "    <tr>\n",
       "      <th>max</th>\n",
       "      <td>1750.000000</td>\n",
       "      <td>0.443000</td>\n",
       "      <td>0.593000</td>\n",
       "      <td>0.221000</td>\n",
       "      <td>0.938000</td>\n",
       "      <td>0.522000</td>\n",
       "      <td>0.808000</td>\n",
       "      <td>0.856000</td>\n",
       "      <td>0.976695</td>\n",
       "      <td>0.995000</td>\n",
       "    </tr>\n",
       "  </tbody>\n",
       "</table>\n",
       "</div>"
      ],
      "text/plain": [
       "        enrollment         ELL         IEP  cap_sc_pct     eni_pct  \\\n",
       "count   222.000000  222.000000  222.000000  222.000000  222.000000   \n",
       "mean    666.126126    0.100761    0.196860    0.044477    0.633212   \n",
       "std     283.109659    0.087869    0.077537    0.047454    0.215366   \n",
       "min     135.000000    0.000000    0.033000    0.000000    0.099000   \n",
       "25%     472.250000    0.034250    0.145000    0.006000    0.488250   \n",
       "50%     643.000000    0.071500    0.190000    0.029000    0.696000   \n",
       "75%     805.750000    0.145250    0.238750    0.066000    0.793750   \n",
       "max    1750.000000    0.443000    0.593000    0.221000    0.938000   \n",
       "\n",
       "       temp_housing_pct  hra_elig_pct       white  MathLevelRate  \\\n",
       "count        222.000000    222.000000  222.000000     222.000000   \n",
       "mean           0.125450      0.483221    0.135185       0.633348   \n",
       "std            0.100247      0.196658    0.199060       0.071316   \n",
       "min            0.002000      0.027000    0.000000       0.304029   \n",
       "25%            0.046000      0.341000    0.009000       0.600443   \n",
       "50%            0.095000      0.523000    0.024000       0.637161   \n",
       "75%            0.185000      0.628000    0.214000       0.668037   \n",
       "max            0.522000      0.808000    0.856000       0.976695   \n",
       "\n",
       "       OverallQuality  \n",
       "count      222.000000  \n",
       "mean         0.835863  \n",
       "std          0.058106  \n",
       "min          0.670000  \n",
       "25%          0.798750  \n",
       "50%          0.840833  \n",
       "75%          0.875000  \n",
       "max          0.995000  "
      ]
     },
     "execution_count": 8,
     "metadata": {},
     "output_type": "execute_result"
    }
   ],
   "source": [
    "data.describe()"
   ]
  },
  {
   "cell_type": "markdown",
   "metadata": {},
   "source": [
    "## Z Score Transformation"
   ]
  },
  {
   "cell_type": "code",
   "execution_count": 14,
   "metadata": {},
   "outputs": [],
   "source": [
    "col = ['ELL', 'IEP', 'cap_sc_pct', 'eni_pct', 'temp_housing_pct', 'hra_elig_pct',\n",
    " 'white','MathLevelRate', 'OverallQuality']\n",
    "features = data[col]\n",
    "remains = data.drop(columns=col)\n",
    "scaler = StandardScaler()\n",
    "scaled_features = scaler.fit_transform(features)\n",
    "scaled_df = pd.DataFrame(scaled_features, index=data.index, columns=col)"
   ]
  },
  {
   "cell_type": "code",
   "execution_count": 15,
   "metadata": {},
   "outputs": [
    {
     "data": {
      "text/html": [
       "<div>\n",
       "<style scoped>\n",
       "    .dataframe tbody tr th:only-of-type {\n",
       "        vertical-align: middle;\n",
       "    }\n",
       "\n",
       "    .dataframe tbody tr th {\n",
       "        vertical-align: top;\n",
       "    }\n",
       "\n",
       "    .dataframe thead th {\n",
       "        text-align: right;\n",
       "    }\n",
       "</style>\n",
       "<table border=\"1\" class=\"dataframe\">\n",
       "  <thead>\n",
       "    <tr style=\"text-align: right;\">\n",
       "      <th></th>\n",
       "      <th>enrollment</th>\n",
       "      <th>ELL</th>\n",
       "      <th>IEP</th>\n",
       "      <th>cap_sc_pct</th>\n",
       "      <th>eni_pct</th>\n",
       "      <th>temp_housing_pct</th>\n",
       "      <th>hra_elig_pct</th>\n",
       "      <th>white</th>\n",
       "      <th>MathLevelRate</th>\n",
       "      <th>OverallQuality</th>\n",
       "    </tr>\n",
       "  </thead>\n",
       "  <tbody>\n",
       "    <tr>\n",
       "      <th>count</th>\n",
       "      <td>222.000000</td>\n",
       "      <td>222.000000</td>\n",
       "      <td>222.000000</td>\n",
       "      <td>222.000000</td>\n",
       "      <td>222.000000</td>\n",
       "      <td>222.000000</td>\n",
       "      <td>222.000000</td>\n",
       "      <td>222.000000</td>\n",
       "      <td>222.000000</td>\n",
       "      <td>222.000000</td>\n",
       "    </tr>\n",
       "    <tr>\n",
       "      <th>mean</th>\n",
       "      <td>666.126126</td>\n",
       "      <td>0.000041</td>\n",
       "      <td>-0.000005</td>\n",
       "      <td>0.000005</td>\n",
       "      <td>-0.000018</td>\n",
       "      <td>0.000117</td>\n",
       "      <td>-0.000018</td>\n",
       "      <td>0.000045</td>\n",
       "      <td>-0.000018</td>\n",
       "      <td>0.000032</td>\n",
       "    </tr>\n",
       "    <tr>\n",
       "      <th>std</th>\n",
       "      <td>283.109659</td>\n",
       "      <td>1.002244</td>\n",
       "      <td>1.002281</td>\n",
       "      <td>1.002246</td>\n",
       "      <td>1.002253</td>\n",
       "      <td>1.002071</td>\n",
       "      <td>1.002257</td>\n",
       "      <td>1.002237</td>\n",
       "      <td>1.002277</td>\n",
       "      <td>1.002273</td>\n",
       "    </tr>\n",
       "    <tr>\n",
       "      <th>min</th>\n",
       "      <td>135.000000</td>\n",
       "      <td>-1.149000</td>\n",
       "      <td>-2.118000</td>\n",
       "      <td>-0.939000</td>\n",
       "      <td>-2.486000</td>\n",
       "      <td>-1.234000</td>\n",
       "      <td>-2.325000</td>\n",
       "      <td>-0.681000</td>\n",
       "      <td>-4.628000</td>\n",
       "      <td>-2.861000</td>\n",
       "    </tr>\n",
       "    <tr>\n",
       "      <th>25%</th>\n",
       "      <td>472.250000</td>\n",
       "      <td>-0.758250</td>\n",
       "      <td>-0.670000</td>\n",
       "      <td>-0.813000</td>\n",
       "      <td>-0.674500</td>\n",
       "      <td>-0.794000</td>\n",
       "      <td>-0.724750</td>\n",
       "      <td>-0.635000</td>\n",
       "      <td>-0.462250</td>\n",
       "      <td>-0.640000</td>\n",
       "    </tr>\n",
       "    <tr>\n",
       "      <th>50%</th>\n",
       "      <td>643.000000</td>\n",
       "      <td>-0.333500</td>\n",
       "      <td>-0.089000</td>\n",
       "      <td>-0.327000</td>\n",
       "      <td>0.292500</td>\n",
       "      <td>-0.304000</td>\n",
       "      <td>0.203000</td>\n",
       "      <td>-0.560000</td>\n",
       "      <td>0.053500</td>\n",
       "      <td>0.085500</td>\n",
       "    </tr>\n",
       "    <tr>\n",
       "      <th>75%</th>\n",
       "      <td>805.750000</td>\n",
       "      <td>0.507500</td>\n",
       "      <td>0.541750</td>\n",
       "      <td>0.455000</td>\n",
       "      <td>0.747000</td>\n",
       "      <td>0.595000</td>\n",
       "      <td>0.738000</td>\n",
       "      <td>0.396750</td>\n",
       "      <td>0.487500</td>\n",
       "      <td>0.675000</td>\n",
       "    </tr>\n",
       "    <tr>\n",
       "      <th>max</th>\n",
       "      <td>1750.000000</td>\n",
       "      <td>3.904000</td>\n",
       "      <td>5.121000</td>\n",
       "      <td>3.728000</td>\n",
       "      <td>1.418000</td>\n",
       "      <td>3.965000</td>\n",
       "      <td>1.655000</td>\n",
       "      <td>3.629000</td>\n",
       "      <td>4.825000</td>\n",
       "      <td>2.745000</td>\n",
       "    </tr>\n",
       "  </tbody>\n",
       "</table>\n",
       "</div>"
      ],
      "text/plain": [
       "        enrollment         ELL         IEP  cap_sc_pct     eni_pct  \\\n",
       "count   222.000000  222.000000  222.000000  222.000000  222.000000   \n",
       "mean    666.126126    0.000041   -0.000005    0.000005   -0.000018   \n",
       "std     283.109659    1.002244    1.002281    1.002246    1.002253   \n",
       "min     135.000000   -1.149000   -2.118000   -0.939000   -2.486000   \n",
       "25%     472.250000   -0.758250   -0.670000   -0.813000   -0.674500   \n",
       "50%     643.000000   -0.333500   -0.089000   -0.327000    0.292500   \n",
       "75%     805.750000    0.507500    0.541750    0.455000    0.747000   \n",
       "max    1750.000000    3.904000    5.121000    3.728000    1.418000   \n",
       "\n",
       "       temp_housing_pct  hra_elig_pct       white  MathLevelRate  \\\n",
       "count        222.000000    222.000000  222.000000     222.000000   \n",
       "mean           0.000117     -0.000018    0.000045      -0.000018   \n",
       "std            1.002071      1.002257    1.002237       1.002277   \n",
       "min           -1.234000     -2.325000   -0.681000      -4.628000   \n",
       "25%           -0.794000     -0.724750   -0.635000      -0.462250   \n",
       "50%           -0.304000      0.203000   -0.560000       0.053500   \n",
       "75%            0.595000      0.738000    0.396750       0.487500   \n",
       "max            3.965000      1.655000    3.629000       4.825000   \n",
       "\n",
       "       OverallQuality  \n",
       "count      222.000000  \n",
       "mean         0.000032  \n",
       "std          1.002273  \n",
       "min         -2.861000  \n",
       "25%         -0.640000  \n",
       "50%          0.085500  \n",
       "75%          0.675000  \n",
       "max          2.745000  "
      ]
     },
     "execution_count": 15,
     "metadata": {},
     "output_type": "execute_result"
    }
   ],
   "source": [
    "pcre = pd.merge(remains, scaled_df, left_index=True, right_index=True, how='inner')\n",
    "pcre = pcre.round(3)\n",
    "pcre.describe()"
   ]
  },
  {
   "cell_type": "markdown",
   "metadata": {},
   "source": [
    "## Pearson Correlation Coefficient"
   ]
  },
  {
   "cell_type": "code",
   "execution_count": 127,
   "metadata": {
    "scrolled": true
   },
   "outputs": [
    {
     "data": {
      "image/png": "[encoded data removed]",
      "text/plain": [
       "<Figure size 800x640 with 2 Axes>"
      ]
     },
     "metadata": {},
     "output_type": "display_data"
    }
   ],
   "source": [
    "sns.set_style(\"whitegrid\")\n",
    "#plt.style.use()\n",
    "corr_heatmap=scaled_df\n",
    "x=corr_heatmap.corr(method='pearson')\n",
    "\n",
    "plt.figure(figsize=(10,8), dpi= 80)\n",
    "sns.heatmap(x,cmap='Pastel2_r',annot=True,linewidth=0.2)\n",
    "plt.title('Pearson Correlation Coefficient')\n",
    "plt.xticks(rotation=90)\n",
    "plt.savefig('per.png')\n",
    "#PiYG"
   ]
  },
  {
   "cell_type": "code",
   "execution_count": 16,
   "metadata": {},
   "outputs": [
    {
     "name": "stdout",
     "output_type": "stream",
     "text": [
      "<class 'pandas.core.frame.DataFrame'>\n",
      "RangeIndex: 222 entries, 0 to 221\n",
      "Data columns (total 13 columns):\n",
      " #   Column            Non-Null Count  Dtype  \n",
      "---  ------            --------------  -----  \n",
      " 0   dbn               222 non-null    object \n",
      " 1   school_name       222 non-null    object \n",
      " 2   school_type       222 non-null    object \n",
      " 3   enrollment        222 non-null    int64  \n",
      " 4   ELL               222 non-null    float64\n",
      " 5   IEP               222 non-null    float64\n",
      " 6   cap_sc_pct        222 non-null    float64\n",
      " 7   eni_pct           222 non-null    float64\n",
      " 8   temp_housing_pct  222 non-null    float64\n",
      " 9   hra_elig_pct      222 non-null    float64\n",
      " 10  white             222 non-null    float64\n",
      " 11  MathLevelRate     222 non-null    float64\n",
      " 12  OverallQuality    222 non-null    float64\n",
      "dtypes: float64(9), int64(1), object(3)\n",
      "memory usage: 22.7+ KB\n"
     ]
    }
   ],
   "source": [
    "pcre.info()"
   ]
  },
  {
   "cell_type": "markdown",
   "metadata": {},
   "source": [
    "## K-means"
   ]
  },
  {
   "cell_type": "code",
   "execution_count": 17,
   "metadata": {},
   "outputs": [
    {
     "name": "stdout",
     "output_type": "stream",
     "text": [
      "(222, 3)\n"
     ]
    }
   ],
   "source": [
    "x = pcre.iloc[:, [10, 12, 11]].values\n",
    "\n",
    "# let's check the shape of x\n",
    "print(x.shape)"
   ]
  },
  {
   "cell_type": "code",
   "execution_count": 14,
   "metadata": {},
   "outputs": [
    {
     "data": {
      "image/png": "[encoded data removed]",
      "text/plain": [
       "<Figure size 432x288 with 1 Axes>"
      ]
     },
     "metadata": {},
     "output_type": "display_data"
    },
    {
     "data": {
      "text/plain": [
       "<Figure size 720x576 with 0 Axes>"
      ]
     },
     "metadata": {},
     "output_type": "display_data"
    }
   ],
   "source": [
    "sns.set_style(\"whitegrid\")\n",
    "\n",
    "\n",
    "wcss = []\n",
    "for i in range(1, 11):\n",
    "    km = KMeans(n_clusters = i, init = 'k-means++', max_iter = 300, n_init = 10, random_state = 0)\n",
    "    km.fit(x)\n",
    "    wcss.append(km.inertia_)\n",
    "    \n",
    "plt.plot(range(1, 11), wcss)\n",
    "plt.title('The Elbow Method', fontsize = 18)\n",
    "plt.xlabel('No. of Clusters')\n",
    "plt.ylabel('wcss')\n",
    "plt.figure(figsize=(10,8))\n",
    "plt.savefig('elbow')"
   ]
  },
  {
   "cell_type": "code",
   "execution_count": 19,
   "metadata": {
    "scrolled": true
   },
   "outputs": [
    {
     "name": "stdout",
     "output_type": "stream",
     "text": [
      "      dbn                                        school_name school_type  \\\n",
      "0  01M034                     P.S. 034 Franklin D. Roosevelt         K-8   \n",
      "1  01M140                             P.S. 140 Nathan Straus         K-8   \n",
      "2  01M184                               P.S. 184m Shuang Wen         K-8   \n",
      "3  01M188                         P.S. 188 The Island School         K-8   \n",
      "4  01M539  New Explorations into Science, Technology and ...         K-8   \n",
      "\n",
      "   enrollment    ELL    IEP  cap_sc_pct  eni_pct  temp_housing_pct  \\\n",
      "0         337 -0.237  2.367      -0.496    1.111             1.595   \n",
      "1         364  0.265  1.824       1.912    1.023             0.615   \n",
      "2         636  0.801 -0.063      -0.897   -0.341            -0.234   \n",
      "3         416  0.607  1.747       0.581    1.418             3.965   \n",
      "4        1131 -1.104 -2.015      -0.939   -2.170            -1.184   \n",
      "\n",
      "   hra_elig_pct  white  MathLevelRate  OverallQuality  Cluster  \n",
      "0         0.988 -0.530          0.774          -1.337        2  \n",
      "1         1.054 -0.530          0.713          -0.274        2  \n",
      "2        -0.827 -0.253          0.557          -0.619        2  \n",
      "3         1.186 -0.499          0.761           2.745        1  \n",
      "4        -2.167  1.635          0.307          -0.791        4  \n"
     ]
    }
   ],
   "source": [
    "kmeans = KMeans(n_clusters=5)\n",
    "\n",
    "y = kmeans.fit_predict(pcre[['white', 'OverallQuality', 'MathLevelRate']])\n",
    "\n",
    "pcre['Cluster'] = y\n",
    "\n",
    "print(pcre.head())"
   ]
  },
  {
   "cell_type": "markdown",
   "metadata": {},
   "source": [
    "## Clusters "
   ]
  },
  {
   "cell_type": "code",
   "execution_count": 20,
   "metadata": {},
   "outputs": [
    {
     "data": {
      "text/html": [
       "<div>\n",
       "<style scoped>\n",
       "    .dataframe tbody tr th:only-of-type {\n",
       "        vertical-align: middle;\n",
       "    }\n",
       "\n",
       "    .dataframe tbody tr th {\n",
       "        vertical-align: top;\n",
       "    }\n",
       "\n",
       "    .dataframe thead th {\n",
       "        text-align: right;\n",
       "    }\n",
       "</style>\n",
       "<table border=\"1\" class=\"dataframe\">\n",
       "  <thead>\n",
       "    <tr style=\"text-align: right;\">\n",
       "      <th></th>\n",
       "      <th>ELL</th>\n",
       "      <th>IEP</th>\n",
       "      <th>cap_sc_pct</th>\n",
       "      <th>eni_pct</th>\n",
       "      <th>temp_housing_pct</th>\n",
       "      <th>hra_elig_pct</th>\n",
       "      <th>white</th>\n",
       "      <th>MathLevelRate</th>\n",
       "      <th>OverallQuality</th>\n",
       "    </tr>\n",
       "    <tr>\n",
       "      <th>Cluster</th>\n",
       "      <th></th>\n",
       "      <th></th>\n",
       "      <th></th>\n",
       "      <th></th>\n",
       "      <th></th>\n",
       "      <th></th>\n",
       "      <th></th>\n",
       "      <th></th>\n",
       "      <th></th>\n",
       "    </tr>\n",
       "  </thead>\n",
       "  <tbody>\n",
       "    <tr>\n",
       "      <th>0</th>\n",
       "      <td>-0.864</td>\n",
       "      <td>1.9150</td>\n",
       "      <td>-0.0100</td>\n",
       "      <td>-0.080</td>\n",
       "      <td>-0.644</td>\n",
       "      <td>0.0290</td>\n",
       "      <td>-0.0610</td>\n",
       "      <td>4.7780</td>\n",
       "      <td>0.330</td>\n",
       "    </tr>\n",
       "    <tr>\n",
       "      <th>1</th>\n",
       "      <td>-0.305</td>\n",
       "      <td>-0.1275</td>\n",
       "      <td>-0.3900</td>\n",
       "      <td>0.397</td>\n",
       "      <td>-0.239</td>\n",
       "      <td>0.2515</td>\n",
       "      <td>-0.5950</td>\n",
       "      <td>0.1390</td>\n",
       "      <td>0.618</td>\n",
       "    </tr>\n",
       "    <tr>\n",
       "      <th>2</th>\n",
       "      <td>-0.214</td>\n",
       "      <td>0.0920</td>\n",
       "      <td>-0.1580</td>\n",
       "      <td>0.646</td>\n",
       "      <td>0.215</td>\n",
       "      <td>0.6160</td>\n",
       "      <td>-0.6200</td>\n",
       "      <td>0.1570</td>\n",
       "      <td>-0.762</td>\n",
       "    </tr>\n",
       "    <tr>\n",
       "      <th>3</th>\n",
       "      <td>-0.476</td>\n",
       "      <td>0.0150</td>\n",
       "      <td>-0.6860</td>\n",
       "      <td>-0.180</td>\n",
       "      <td>-0.679</td>\n",
       "      <td>-0.3655</td>\n",
       "      <td>0.2885</td>\n",
       "      <td>-2.0985</td>\n",
       "      <td>-0.015</td>\n",
       "    </tr>\n",
       "    <tr>\n",
       "      <th>4</th>\n",
       "      <td>-0.528</td>\n",
       "      <td>-0.2500</td>\n",
       "      <td>-0.2745</td>\n",
       "      <td>-1.418</td>\n",
       "      <td>-0.969</td>\n",
       "      <td>-1.4180</td>\n",
       "      <td>1.5875</td>\n",
       "      <td>-0.0615</td>\n",
       "      <td>0.503</td>\n",
       "    </tr>\n",
       "  </tbody>\n",
       "</table>\n",
       "</div>"
      ],
      "text/plain": [
       "           ELL     IEP  cap_sc_pct  eni_pct  temp_housing_pct  hra_elig_pct  \\\n",
       "Cluster                                                                       \n",
       "0       -0.864  1.9150     -0.0100   -0.080            -0.644        0.0290   \n",
       "1       -0.305 -0.1275     -0.3900    0.397            -0.239        0.2515   \n",
       "2       -0.214  0.0920     -0.1580    0.646             0.215        0.6160   \n",
       "3       -0.476  0.0150     -0.6860   -0.180            -0.679       -0.3655   \n",
       "4       -0.528 -0.2500     -0.2745   -1.418            -0.969       -1.4180   \n",
       "\n",
       "          white  MathLevelRate  OverallQuality  \n",
       "Cluster                                         \n",
       "0       -0.0610         4.7780           0.330  \n",
       "1       -0.5950         0.1390           0.618  \n",
       "2       -0.6200         0.1570          -0.762  \n",
       "3        0.2885        -2.0985          -0.015  \n",
       "4        1.5875        -0.0615           0.503  "
      ]
     },
     "execution_count": 20,
     "metadata": {},
     "output_type": "execute_result"
    }
   ],
   "source": [
    "result2 = pcre.groupby('Cluster')[col].agg('median')\n",
    "result2"
   ]
  },
  {
   "cell_type": "code",
   "execution_count": null,
   "metadata": {},
   "outputs": [],
   "source": [
    "result = pcre.groupby('Cluster')['dbn'].agg('count')"
   ]
  },
  {
   "cell_type": "code",
   "execution_count": 56,
   "metadata": {},
   "outputs": [
    {
     "data": {
      "text/plain": [
       "Cluster\n",
       "0    13\n",
       "1    84\n",
       "2    42\n",
       "3     3\n",
       "4    80\n",
       "Name: dbn, dtype: int64"
      ]
     },
     "execution_count": 56,
     "metadata": {},
     "output_type": "execute_result"
    }
   ],
   "source": [
    "result.head()"
   ]
  },
  {
   "cell_type": "code",
   "execution_count": 31,
   "metadata": {},
   "outputs": [],
   "source": [
    "x = pcre[['white', 'OverallQuality', 'MathLevelRate']].values\n",
    "km = KMeans(n_clusters = 5, init = 'k-means++', max_iter = 300, n_init = 10, random_state = 0)\n",
    "km.fit(x)\n",
    "labels = km.labels_\n",
    "centroids = km.cluster_centers_"
   ]
  },
  {
   "cell_type": "code",
   "execution_count": 34,
   "metadata": {},
   "outputs": [],
   "source": [
    "kdf = pcre[['white', 'OverallQuality', 'MathLevelRate']]"
   ]
  },
  {
   "cell_type": "markdown",
   "metadata": {},
   "source": [
    "## Silhouette Score"
   ]
  },
  {
   "cell_type": "code",
   "execution_count": 42,
   "metadata": {},
   "outputs": [
    {
     "name": "stdout",
     "output_type": "stream",
     "text": [
      ".............\n",
      "Largest silhouette score was 0.4233 for k=2\n"
     ]
    },
    {
     "data": {
      "image/png": "[encoded data removed]",
      "text/plain": [
       "<Figure size 432x288 with 1 Axes>"
      ]
     },
     "metadata": {},
     "output_type": "display_data"
    }
   ],
   "source": [
    "sns.set_style(\"whitegrid\")\n",
    "x = []\n",
    "y = []\n",
    "\n",
    "for k in range(2,15):\n",
    "\n",
    "    kmeans = KMeans(n_clusters=k, n_init=25, random_state=42).fit(kdf)\n",
    "    \n",
    "    # Calculate the overall silhouette score\n",
    "    silhouette_avg = silhouette_score(kdf, kmeans.labels_)\n",
    "    \n",
    "    y.append(k)\n",
    "    x.append(silhouette_avg)\n",
    "    \n",
    "    print('.', end='')\n",
    "\n",
    "print()\n",
    "print(f\"Largest silhouette score was {max(x):6.4f} for k={y[x.index(max(x))]}\")\n",
    "\n",
    "plt.plot(y, x)\n",
    "plt.gcf().suptitle(\"Average Silhouette Scores\");"
   ]
  },
  {
   "cell_type": "code",
   "execution_count": 38,
   "metadata": {},
   "outputs": [
    {
     "name": "stdout",
     "output_type": "stream",
     "text": [
      "Silhouette Score: 0.33995496043676465\n"
     ]
    }
   ],
   "source": [
    "# SILHOUETTE SCORE\n",
    "\n",
    "# These lines calculate the silhouette score...\n",
    "silhouette_kmeans = sklm.silhouette_score(pcre[['white', 'OverallQuality', 'MathLevelRate']],labels)\n",
    "\n",
    "# ... and print it:\n",
    "print(\"Silhouette Score:\", silhouette_kmeans)"
   ]
  },
  {
   "cell_type": "code",
   "execution_count": 43,
   "metadata": {},
   "outputs": [
    {
     "data": {
      "application/vnd.plotly.v1+json": {
       "config": {
        "linkText": "Export to plot.ly",
        "plotlyServerURL": "https://plot.ly",
        "showLink": false
       },
       "data": [
        {
         "marker": {
          "color": [
           3,
           3,
           3,
           0,
           2,
           0,
           1,
           1,
           2,
           1,
           2,
           4,
           0,
           3,
           3,
           3,
           1,
           2,
           2,
           2,
           3,
           0,
           3,
           0,
           0,
           3,
           3,
           0,
           4,
           1,
           0,
           3,
           3,
           0,
           0,
           2,
           0,
           0,
           0,
           0,
           3,
           3,
           3,
           3,
           3,
           3,
           0,
           3,
           3,
           0,
           3,
           0,
           0,
           0,
           2,
           2,
           1,
           2,
           0,
           0,
           3,
           3,
           3,
           2,
           3,
           1,
           0,
           0,
           0,
           3,
           0,
           3,
           0,
           3,
           3,
           0,
           3,
           3,
           2,
           2,
           2,
           0,
           2,
           2,
           2,
           0,
           2,
           2,
           2,
           3,
           2,
           3,
           3,
           3,
           2,
           2,
           3,
           0,
           0,
           0,
           0,
           0,
           0,
           0,
           3,
           2,
           2,
           0,
           2,
           2,
           2,
           2,
           0,
           0,
           0,
           2,
           0,
           0,
           3,
           2,
           3,
           2,
           3,
           2,
           3,
           2,
           2,
           3,
           0,
           0,
           3,
           0,
           0,
           0,
           0,
           1,
           3,
           2,
           3,
           1,
           2,
           2,
           0,
           0,
           3,
           3,
           3,
           0,
           3,
           0,
           0,
           3,
           0,
           3,
           2,
           0,
           3,
           0,
           3,
           3,
           3,
           3,
           2,
           3,
           0,
           0,
           3,
           3,
           0,
           3,
           3,
           1,
           0,
           0,
           3,
           3,
           3,
           0,
           3,
           3,
           1,
           0,
           3,
           3,
           0,
           0,
           0,
           0,
           3,
           3,
           0,
           3,
           1,
           0,
           0,
           2,
           0,
           0,
           3,
           2,
           4,
           0,
           3,
           3,
           3,
           1,
           0,
           3,
           0,
           0,
           0,
           3,
           3,
           0,
           0,
           0,
           0,
           0,
           3,
           3,
           0,
           0
          ],
          "line": {
           "color": [
            3,
            3,
            3,
            0,
            2,
            0,
            1,
            1,
            2,
            1,
            2,
            4,
            0,
            3,
            3,
            3,
            1,
            2,
            2,
            2,
            3,
            0,
            3,
            0,
            0,
            3,
            3,
            0,
            4,
            1,
            0,
            3,
            3,
            0,
            0,
            2,
            0,
            0,
            0,
            0,
            3,
            3,
            3,
            3,
            3,
            3,
            0,
            3,
            3,
            0,
            3,
            0,
            0,
            0,
            2,
            2,
            1,
            2,
            0,
            0,
            3,
            3,
            3,
            2,
            3,
            1,
            0,
            0,
            0,
            3,
            0,
            3,
            0,
            3,
            3,
            0,
            3,
            3,
            2,
            2,
            2,
            0,
            2,
            2,
            2,
            0,
            2,
            2,
            2,
            3,
            2,
            3,
            3,
            3,
            2,
            2,
            3,
            0,
            0,
            0,
            0,
            0,
            0,
            0,
            3,
            2,
            2,
            0,
            2,
            2,
            2,
            2,
            0,
            0,
            0,
            2,
            0,
            0,
            3,
            2,
            3,
            2,
            3,
            2,
            3,
            2,
            2,
            3,
            0,
            0,
            3,
            0,
            0,
            0,
            0,
            1,
            3,
            2,
            3,
            1,
            2,
            2,
            0,
            0,
            3,
            3,
            3,
            0,
            3,
            0,
            0,
            3,
            0,
            3,
            2,
            0,
            3,
            0,
            3,
            3,
            3,
            3,
            2,
            3,
            0,
            0,
            3,
            3,
            0,
            3,
            3,
            1,
            0,
            0,
            3,
            3,
            3,
            0,
            3,
            3,
            1,
            0,
            3,
            3,
            0,
            0,
            0,
            0,
            3,
            3,
            0,
            3,
            1,
            0,
            0,
            2,
            0,
            0,
            3,
            2,
            4,
            0,
            3,
            3,
            3,
            1,
            0,
            3,
            0,
            0,
            0,
            3,
            3,
            0,
            0,
            0,
            0,
            0,
            3,
            3,
            0,
            0
           ],
           "width": 12
          },
          "opacity": 0.8,
          "size": 10
         },
         "mode": "markers",
         "type": "scatter3d",
         "x": [
          -1.0523333333333336,
          -0.2801666666666667,
          -0.5683333333333334,
          2.3585,
          -0.6008333333333334,
          0.5256666666666666,
          1.2133333333333334,
          0.515,
          0.1585,
          -1.3378333333333332,
          0.6083333333333333,
          1.2173333333333334,
          1.1463333333333332,
          -1.9131666666666665,
          -0.20633333333333334,
          -0.45333333333333337,
          0.2851666666666667,
          -0.9176666666666667,
          0.7428333333333333,
          0.8901666666666667,
          -0.3681666666666666,
          0.7228333333333334,
          -1.3766666666666667,
          0.08100000000000002,
          -0.11183333333333333,
          -1.2209999999999999,
          -0.4961666666666667,
          0.6509999999999999,
          -0.18749999999999997,
          0.29933333333333334,
          0.447,
          -0.7345,
          -1.414666666666667,
          0.4166666666666667,
          0.7095000000000001,
          0.8895,
          0.30350000000000005,
          1.2403333333333333,
          0.17883333333333332,
          0.9153333333333334,
          -0.8703333333333333,
          -0.18916666666666668,
          -0.5026666666666667,
          -0.2718333333333333,
          -0.2688333333333333,
          -0.8215,
          0.9068333333333333,
          -0.148,
          -2.0356666666666667,
          1.3326666666666667,
          -0.9445,
          0.8314999999999998,
          0.9603333333333333,
          0.2851666666666666,
          0.38566666666666666,
          -0.15766666666666665,
          0.29016666666666674,
          0.9015,
          0.0718333333333333,
          0.9161666666666667,
          -0.7988333333333334,
          -0.6183333333333333,
          -0.7136666666666667,
          -0.14133333333333334,
          -0.43216666666666664,
          0.8185000000000001,
          0.5385000000000001,
          0.6313333333333333,
          1.0725,
          -0.4678333333333334,
          1.006,
          -1.2826666666666666,
          0.5021666666666668,
          -0.3945,
          -0.6618333333333334,
          0.3388333333333333,
          -0.1658333333333334,
          -0.5498333333333334,
          -0.2788333333333333,
          0.4498333333333333,
          0.4186666666666667,
          0.6698333333333334,
          0.17166666666666663,
          0.27216666666666667,
          -0.20116666666666672,
          1.4288333333333334,
          1.484,
          0.9145,
          0.5013333333333333,
          -1.9853333333333332,
          0.6128333333333332,
          -0.33316666666666667,
          -0.242,
          -1.0345,
          0.08349999999999998,
          0.12,
          -0.997,
          0.5708333333333333,
          0.852,
          0.15150000000000002,
          1.3665,
          -0.1578333333333333,
          0.4805,
          0.49366666666666664,
          -2.3805,
          0.7788333333333334,
          1.0768333333333333,
          0.4323333333333334,
          1.149,
          -0.9165000000000001,
          0.48550000000000004,
          -0.039166666666666676,
          -0.05533333333333331,
          0.14616666666666664,
          0.4535,
          -0.3918333333333333,
          0.3365,
          0.19716666666666668,
          -1.4223333333333334,
          0.62,
          -0.5955,
          0.0788333333333333,
          -0.22399999999999998,
          0.4033333333333333,
          -1.2988333333333333,
          0.33583333333333326,
          1.07,
          -1.8615000000000002,
          0.17400000000000002,
          0.05250000000000001,
          -0.12083333333333335,
          0.31083333333333335,
          0.49900000000000005,
          0.07216666666666664,
          0.06666666666666668,
          0.5376666666666666,
          -0.7428333333333333,
          0.307,
          -0.9625,
          -0.5306666666666667,
          0.9323333333333333,
          0.5488333333333334,
          0.06616666666666667,
          0.37333333333333335,
          -0.6663333333333333,
          -0.7433333333333333,
          -0.7833333333333333,
          0.17666666666666667,
          -1.2713333333333332,
          0.9003333333333332,
          1.7489999999999999,
          -0.5736666666666667,
          0.05816666666666667,
          -0.7399999999999999,
          0.9636666666666666,
          0.7028333333333334,
          -0.513,
          -0.009666666666666665,
          -0.5488333333333334,
          -0.429,
          -0.4095,
          -1.4465000000000001,
          0.2778333333333333,
          -0.9504999999999999,
          0.037166666666666674,
          0.21183333333333332,
          -1.4240000000000002,
          -0.4046666666666667,
          0.23066666666666666,
          -0.7199999999999999,
          -0.5718333333333333,
          -1.3205,
          0.7293333333333333,
          0.10566666666666664,
          -0.5386666666666667,
          -1.2361666666666669,
          -0.8461666666666666,
          0.5618333333333333,
          -0.8428333333333334,
          -1.192,
          -1.6123333333333332,
          0.2555,
          -0.3383333333333334,
          -1.3096666666666665,
          -0.0030000000000000213,
          1.3531666666666666,
          1.438,
          1.3555,
          -0.5565,
          -0.6798333333333333,
          0.3313333333333333,
          -0.20766666666666667,
          -1.3881666666666668,
          0.6763333333333333,
          -0.026666666666666672,
          0.4878333333333333,
          -0.10433333333333332,
          -0.08383333333333333,
          -0.3878333333333333,
          0.6993333333333333,
          0.16333333333333333,
          1.4163333333333332,
          -1.2870000000000001,
          -0.615,
          -0.3721666666666666,
          -0.19533333333333336,
          1.2196666666666667,
          -0.8576666666666667,
          1.1978333333333333,
          0.9521666666666667,
          0.5446666666666666,
          -2.3256666666666663,
          -1.5361666666666667,
          0.09916666666666668,
          0.5736666666666667,
          1.6698333333333337,
          1.711666666666667,
          0.592,
          -0.47533333333333333,
          -0.32316666666666666,
          1.0191666666666666,
          0.0010000000000000009
         ],
         "y": [
          -0.529,
          -0.529,
          -0.252,
          -0.498,
          1.631,
          -0.282,
          1.255,
          0.828,
          2.164,
          0.039,
          2.079,
          0.26,
          -0.539,
          -0.549,
          0.034,
          -0.362,
          -0.383,
          2.391,
          2.053,
          1.998,
          -0.534,
          0.125,
          -0.639,
          -0.584,
          -0.534,
          -0.534,
          -0.609,
          -0.503,
          -0.458,
          0.426,
          -0.634,
          -0.483,
          -0.619,
          -0.589,
          -0.624,
          1.064,
          -0.67,
          0.16,
          -0.443,
          -0.599,
          -0.599,
          -0.619,
          -0.584,
          0.532,
          -0.634,
          -0.624,
          -0.665,
          -0.66,
          -0.352,
          -0.609,
          -0.473,
          -0.66,
          -0.383,
          -0.66,
          2.335,
          1.014,
          0.15,
          1.818,
          -0.433,
          0.059,
          -0.654,
          -0.639,
          -0.594,
          2.396,
          -0.167,
          1.019,
          0.542,
          -0.629,
          -0.539,
          -0.614,
          -0.483,
          -0.559,
          -0.639,
          -0.639,
          -0.564,
          -0.599,
          -0.68,
          -0.66,
          1.556,
          1.611,
          1.169,
          0.597,
          0.697,
          0.798,
          2.823,
          0.416,
          0.954,
          1.194,
          1.441,
          1.517,
          1.23,
          0.416,
          -0.352,
          -0.539,
          1.285,
          1.22,
          -0.624,
          -0.609,
          -0.619,
          -0.589,
          -0.468,
          -0.67,
          -0.66,
          -0.66,
          -0.584,
          2.109,
          1.456,
          -0.513,
          1.954,
          1.406,
          3.149,
          1.265,
          0.105,
          0.11,
          -0.252,
          2.772,
          0.1,
          -0.574,
          -0.453,
          3.344,
          -0.589,
          3.621,
          -0.529,
          2.169,
          -0.443,
          3.073,
          1.08,
          -0.559,
          -0.604,
          -0.549,
          -0.619,
          -0.634,
          -0.569,
          -0.675,
          -0.473,
          1.421,
          -0.453,
          1.361,
          -0.599,
          0.924,
          2.26,
          1.672,
          0.335,
          -0.529,
          -0.634,
          -0.639,
          -0.68,
          -0.649,
          -0.644,
          -0.665,
          0.682,
          -0.66,
          -0.644,
          -0.619,
          1.411,
          -0.634,
          -0.619,
          -0.66,
          -0.584,
          -0.675,
          -0.654,
          -0.67,
          1.522,
          -0.665,
          -0.634,
          -0.634,
          -0.654,
          -0.665,
          -0.665,
          -0.66,
          0.22,
          1.923,
          -0.629,
          -0.649,
          -0.654,
          -0.549,
          -0.609,
          -0.629,
          -0.639,
          -0.574,
          -0.624,
          -0.614,
          -0.654,
          -0.609,
          -0.639,
          -0.584,
          -0.594,
          -0.584,
          -0.654,
          -0.634,
          -0.624,
          -0.639,
          -0.639,
          -0.654,
          -0.228,
          0.868,
          -0.594,
          -0.649,
          -0.076,
          0.944,
          -0.061,
          -0.564,
          -0.654,
          -0.644,
          -0.644,
          -0.619,
          -0.569,
          -0.644,
          -0.498,
          -0.67,
          -0.539,
          -0.639,
          -0.644,
          -0.649,
          -0.66,
          -0.624,
          -0.619,
          -0.327,
          -0.644,
          -0.67,
          -0.644,
          -0.649
         ],
         "z": [
          0.772,
          0.711,
          0.556,
          0.759,
          0.306,
          1.25,
          -2.338,
          -4.617,
          0.011,
          -2.07,
          -0.979,
          4.767,
          -0.05,
          0.467,
          -0.379,
          0.073,
          -1.654,
          -1.388,
          0.891,
          0.156,
          0.293,
          0.829,
          -0.251,
          0.585,
          -0.031,
          1.144,
          1.41,
          0.666,
          4.527,
          -2.117,
          -0.227,
          -0.114,
          1.188,
          0.72,
          0.377,
          -0.245,
          0.273,
          0.128,
          -0.163,
          -1.073,
          0.169,
          0.297,
          -0.141,
          0.343,
          -0.257,
          -0.324,
          0.147,
          0.56,
          -0.019,
          -0.328,
          0.225,
          0.355,
          0.325,
          0.894,
          -0.555,
          0.333,
          -2.577,
          -0.361,
          0.731,
          1.032,
          0.358,
          1.256,
          0.824,
          -1.344,
          0.157,
          -2.263,
          -0.384,
          0.88,
          1.074,
          1.154,
          1.417,
          0.84,
          0.335,
          -0.046,
          0.667,
          -0.659,
          0.562,
          0.478,
          -0.751,
          0.686,
          1.057,
          0.84,
          -0.793,
          0.161,
          0.635,
          -0.715,
          -0.049,
          -0.181,
          -0.567,
          0.518,
          -0.01,
          -0.205,
          -0.881,
          0.664,
          -0.251,
          -0.218,
          0.28,
          -0.861,
          -0.998,
          -0.476,
          -0.988,
          -1.192,
          0.772,
          0.253,
          -0.453,
          0.343,
          -1.054,
          0.489,
          0.704,
          1.072,
          0.045,
          0.418,
          0.244,
          0.797,
          0.944,
          0.665,
          -0.215,
          -0.354,
          -0.016,
          -0.797,
          -0.58,
          -1.728,
          0.763,
          -0.041,
          -0.02,
          -0.361,
          0.773,
          -1.392,
          -0.531,
          0.895,
          0.152,
          0.588,
          -0.129,
          1.004,
          -0.087,
          -2.682,
          -0.649,
          -0.9,
          0.83,
          -1.149,
          -0.075,
          0.78,
          0.179,
          -0.11,
          1.421,
          0.361,
          -0.633,
          0.263,
          -0.6,
          -0.566,
          0.233,
          0.089,
          0.202,
          -0.163,
          -0.254,
          0.489,
          -0.247,
          0.131,
          0.096,
          -0.515,
          0.28,
          -0.098,
          0.247,
          -0.064,
          -0.464,
          -0.626,
          0.674,
          0.099,
          0.306,
          0.458,
          0.604,
          -1.513,
          -0.471,
          0.205,
          -0.309,
          -0.669,
          -0.913,
          0.228,
          0.145,
          0.008,
          -2.213,
          0.251,
          -0.319,
          0.329,
          -0.068,
          -0.333,
          0.479,
          -0.862,
          0.351,
          -0.476,
          0.306,
          1.308,
          -2.03,
          -0.223,
          -0.386,
          -0.074,
          -0.57,
          -0.643,
          1.352,
          -0.196,
          4.814,
          -1.366,
          0.399,
          0.162,
          -0.002,
          -1.899,
          0.062,
          -0.372,
          -0.838,
          0.467,
          -0.248,
          0.369,
          0.096,
          0.597,
          -0.704,
          -0.661,
          -0.241,
          -0.713,
          -0.143,
          0.166,
          -0.516,
          -0.258
         ]
        }
       ],
       "layout": {
        "autosize": true,
        "dragmode": "pan",
        "margin": {
         "b": 0,
         "l": 0,
         "r": 0,
         "t": 0
        },
        "scene": {
         "aspectmode": "auto",
         "aspectratio": {
          "x": 0.8211365998181235,
          "y": 0.7452434091195926,
          "z": 1.63412940976677
         },
         "camera": {
          "center": {
           "x": -0.0011043052205676732,
           "y": 0.4561907572272825,
           "z": -0.15177169728430634
          },
          "eye": {
           "x": 1.4355034816350793,
           "y": -1.3758553548445827,
           "z": 0.10352376654503004
          },
          "projection": {
           "type": "perspective"
          },
          "up": {
           "x": -0.059424285479021344,
           "y": 0.09191487951138222,
           "z": 0.9939921575242515
          }
         },
         "dragmode": "pan",
         "xaxis": {
          "title": {
           "text": "OverallQuality"
          },
          "type": "linear"
         },
         "yaxis": {
          "title": {
           "text": "white"
          },
          "type": "linear"
         },
         "zaxis": {
          "title": {
           "text": "MathLevelRate"
          },
          "type": "linear"
         }
        },
        "template": {
         "data": {
          "bar": [
           {
            "error_x": {
             "color": "#2a3f5f"
            },
            "error_y": {
             "color": "#2a3f5f"
            },
            "marker": {
             "line": {
              "color": "#E5ECF6",
              "width": 0.5
             }
            },
            "type": "bar"
           }
          ],
          "barpolar": [
           {
            "marker": {
             "line": {
              "color": "#E5ECF6",
              "width": 0.5
             }
            },
            "type": "barpolar"
           }
          ],
          "carpet": [
           {
            "aaxis": {
             "endlinecolor": "#2a3f5f",
             "gridcolor": "white",
             "linecolor": "white",
             "minorgridcolor": "white",
             "startlinecolor": "#2a3f5f"
            },
            "baxis": {
             "endlinecolor": "#2a3f5f",
             "gridcolor": "white",
             "linecolor": "white",
             "minorgridcolor": "white",
             "startlinecolor": "#2a3f5f"
            },
            "type": "carpet"
           }
          ],
          "choropleth": [
           {
            "colorbar": {
             "outlinewidth": 0,
             "ticks": ""
            },
            "type": "choropleth"
           }
          ],
          "contour": [
           {
            "colorbar": {
             "outlinewidth": 0,
             "ticks": ""
            },
            "colorscale": [
             [
              0,
              "#0d0887"
             ],
             [
              0.1111111111111111,
              "#46039f"
             ],
             [
              0.2222222222222222,
              "#7201a8"
             ],
             [
              0.3333333333333333,
              "#9c179e"
             ],
             [
              0.4444444444444444,
              "#bd3786"
             ],
             [
              0.5555555555555556,
              "#d8576b"
             ],
             [
              0.6666666666666666,
              "#ed7953"
             ],
             [
              0.7777777777777778,
              "#fb9f3a"
             ],
             [
              0.8888888888888888,
              "#fdca26"
             ],
             [
              1,
              "#f0f921"
             ]
            ],
            "type": "contour"
           }
          ],
          "contourcarpet": [
           {
            "colorbar": {
             "outlinewidth": 0,
             "ticks": ""
            },
            "type": "contourcarpet"
           }
          ],
          "heatmap": [
           {
            "colorbar": {
             "outlinewidth": 0,
             "ticks": ""
            },
            "colorscale": [
             [
              0,
              "#0d0887"
             ],
             [
              0.1111111111111111,
              "#46039f"
             ],
             [
              0.2222222222222222,
              "#7201a8"
             ],
             [
              0.3333333333333333,
              "#9c179e"
             ],
             [
              0.4444444444444444,
              "#bd3786"
             ],
             [
              0.5555555555555556,
              "#d8576b"
             ],
             [
              0.6666666666666666,
              "#ed7953"
             ],
             [
              0.7777777777777778,
              "#fb9f3a"
             ],
             [
              0.8888888888888888,
              "#fdca26"
             ],
             [
              1,
              "#f0f921"
             ]
            ],
            "type": "heatmap"
           }
          ],
          "heatmapgl": [
           {
            "colorbar": {
             "outlinewidth": 0,
             "ticks": ""
            },
            "colorscale": [
             [
              0,
              "#0d0887"
             ],
             [
              0.1111111111111111,
              "#46039f"
             ],
             [
              0.2222222222222222,
              "#7201a8"
             ],
             [
              0.3333333333333333,
              "#9c179e"
             ],
             [
              0.4444444444444444,
              "#bd3786"
             ],
             [
              0.5555555555555556,
              "#d8576b"
             ],
             [
              0.6666666666666666,
              "#ed7953"
             ],
             [
              0.7777777777777778,
              "#fb9f3a"
             ],
             [
              0.8888888888888888,
              "#fdca26"
             ],
             [
              1,
              "#f0f921"
             ]
            ],
            "type": "heatmapgl"
           }
          ],
          "histogram": [
           {
            "marker": {
             "colorbar": {
              "outlinewidth": 0,
              "ticks": ""
             }
            },
            "type": "histogram"
           }
          ],
          "histogram2d": [
           {
            "colorbar": {
             "outlinewidth": 0,
             "ticks": ""
            },
            "colorscale": [
             [
              0,
              "#0d0887"
             ],
             [
              0.1111111111111111,
              "#46039f"
             ],
             [
              0.2222222222222222,
              "#7201a8"
             ],
             [
              0.3333333333333333,
              "#9c179e"
             ],
             [
              0.4444444444444444,
              "#bd3786"
             ],
             [
              0.5555555555555556,
              "#d8576b"
             ],
             [
              0.6666666666666666,
              "#ed7953"
             ],
             [
              0.7777777777777778,
              "#fb9f3a"
             ],
             [
              0.8888888888888888,
              "#fdca26"
             ],
             [
              1,
              "#f0f921"
             ]
            ],
            "type": "histogram2d"
           }
          ],
          "histogram2dcontour": [
           {
            "colorbar": {
             "outlinewidth": 0,
             "ticks": ""
            },
            "colorscale": [
             [
              0,
              "#0d0887"
             ],
             [
              0.1111111111111111,
              "#46039f"
             ],
             [
              0.2222222222222222,
              "#7201a8"
             ],
             [
              0.3333333333333333,
              "#9c179e"
             ],
             [
              0.4444444444444444,
              "#bd3786"
             ],
             [
              0.5555555555555556,
              "#d8576b"
             ],
             [
              0.6666666666666666,
              "#ed7953"
             ],
             [
              0.7777777777777778,
              "#fb9f3a"
             ],
             [
              0.8888888888888888,
              "#fdca26"
             ],
             [
              1,
              "#f0f921"
             ]
            ],
            "type": "histogram2dcontour"
           }
          ],
          "mesh3d": [
           {
            "colorbar": {
             "outlinewidth": 0,
             "ticks": ""
            },
            "type": "mesh3d"
           }
          ],
          "parcoords": [
           {
            "line": {
             "colorbar": {
              "outlinewidth": 0,
              "ticks": ""
             }
            },
            "type": "parcoords"
           }
          ],
          "pie": [
           {
            "automargin": true,
            "type": "pie"
           }
          ],
          "scatter": [
           {
            "marker": {
             "colorbar": {
              "outlinewidth": 0,
              "ticks": ""
             }
            },
            "type": "scatter"
           }
          ],
          "scatter3d": [
           {
            "line": {
             "colorbar": {
              "outlinewidth": 0,
              "ticks": ""
             }
            },
            "marker": {
             "colorbar": {
              "outlinewidth": 0,
              "ticks": ""
             }
            },
            "type": "scatter3d"
           }
          ],
          "scattercarpet": [
           {
            "marker": {
             "colorbar": {
              "outlinewidth": 0,
              "ticks": ""
             }
            },
            "type": "scattercarpet"
           }
          ],
          "scattergeo": [
           {
            "marker": {
             "colorbar": {
              "outlinewidth": 0,
              "ticks": ""
             }
            },
            "type": "scattergeo"
           }
          ],
          "scattergl": [
           {
            "marker": {
             "colorbar": {
              "outlinewidth": 0,
              "ticks": ""
             }
            },
            "type": "scattergl"
           }
          ],
          "scattermapbox": [
           {
            "marker": {
             "colorbar": {
              "outlinewidth": 0,
              "ticks": ""
             }
            },
            "type": "scattermapbox"
           }
          ],
          "scatterpolar": [
           {
            "marker": {
             "colorbar": {
              "outlinewidth": 0,
              "ticks": ""
             }
            },
            "type": "scatterpolar"
           }
          ],
          "scatterpolargl": [
           {
            "marker": {
             "colorbar": {
              "outlinewidth": 0,
              "ticks": ""
             }
            },
            "type": "scatterpolargl"
           }
          ],
          "scatterternary": [
           {
            "marker": {
             "colorbar": {
              "outlinewidth": 0,
              "ticks": ""
             }
            },
            "type": "scatterternary"
           }
          ],
          "surface": [
           {
            "colorbar": {
             "outlinewidth": 0,
             "ticks": ""
            },
            "colorscale": [
             [
              0,
              "#0d0887"
             ],
             [
              0.1111111111111111,
              "#46039f"
             ],
             [
              0.2222222222222222,
              "#7201a8"
             ],
             [
              0.3333333333333333,
              "#9c179e"
             ],
             [
              0.4444444444444444,
              "#bd3786"
             ],
             [
              0.5555555555555556,
              "#d8576b"
             ],
             [
              0.6666666666666666,
              "#ed7953"
             ],
             [
              0.7777777777777778,
              "#fb9f3a"
             ],
             [
              0.8888888888888888,
              "#fdca26"
             ],
             [
              1,
              "#f0f921"
             ]
            ],
            "type": "surface"
           }
          ],
          "table": [
           {
            "cells": {
             "fill": {
              "color": "#EBF0F8"
             },
             "line": {
              "color": "white"
             }
            },
            "header": {
             "fill": {
              "color": "#C8D4E3"
             },
             "line": {
              "color": "white"
             }
            },
            "type": "table"
           }
          ]
         },
         "layout": {
          "annotationdefaults": {
           "arrowcolor": "#2a3f5f",
           "arrowhead": 0,
           "arrowwidth": 1
          },
          "autotypenumbers": "strict",
          "coloraxis": {
           "colorbar": {
            "outlinewidth": 0,
            "ticks": ""
           }
          },
          "colorscale": {
           "diverging": [
            [
             0,
             "#8e0152"
            ],
            [
             0.1,
             "#c51b7d"
            ],
            [
             0.2,
             "#de77ae"
            ],
            [
             0.3,
             "#f1b6da"
            ],
            [
             0.4,
             "#fde0ef"
            ],
            [
             0.5,
             "#f7f7f7"
            ],
            [
             0.6,
             "#e6f5d0"
            ],
            [
             0.7,
             "#b8e186"
            ],
            [
             0.8,
             "#7fbc41"
            ],
            [
             0.9,
             "#4d9221"
            ],
            [
             1,
             "#276419"
            ]
           ],
           "sequential": [
            [
             0,
             "#0d0887"
            ],
            [
             0.1111111111111111,
             "#46039f"
            ],
            [
             0.2222222222222222,
             "#7201a8"
            ],
            [
             0.3333333333333333,
             "#9c179e"
            ],
            [
             0.4444444444444444,
             "#bd3786"
            ],
            [
             0.5555555555555556,
             "#d8576b"
            ],
            [
             0.6666666666666666,
             "#ed7953"
            ],
            [
             0.7777777777777778,
             "#fb9f3a"
            ],
            [
             0.8888888888888888,
             "#fdca26"
            ],
            [
             1,
             "#f0f921"
            ]
           ],
           "sequentialminus": [
            [
             0,
             "#0d0887"
            ],
            [
             0.1111111111111111,
             "#46039f"
            ],
            [
             0.2222222222222222,
             "#7201a8"
            ],
            [
             0.3333333333333333,
             "#9c179e"
            ],
            [
             0.4444444444444444,
             "#bd3786"
            ],
            [
             0.5555555555555556,
             "#d8576b"
            ],
            [
             0.6666666666666666,
             "#ed7953"
            ],
            [
             0.7777777777777778,
             "#fb9f3a"
            ],
            [
             0.8888888888888888,
             "#fdca26"
            ],
            [
             1,
             "#f0f921"
            ]
           ]
          },
          "colorway": [
           "#636efa",
           "#EF553B",
           "#00cc96",
           "#ab63fa",
           "#FFA15A",
           "#19d3f3",
           "#FF6692",
           "#B6E880",
           "#FF97FF",
           "#FECB52"
          ],
          "font": {
           "color": "#2a3f5f"
          },
          "geo": {
           "bgcolor": "white",
           "lakecolor": "white",
           "landcolor": "#E5ECF6",
           "showlakes": true,
           "showland": true,
           "subunitcolor": "white"
          },
          "hoverlabel": {
           "align": "left"
          },
          "hovermode": "closest",
          "mapbox": {
           "style": "light"
          },
          "paper_bgcolor": "white",
          "plot_bgcolor": "#E5ECF6",
          "polar": {
           "angularaxis": {
            "gridcolor": "white",
            "linecolor": "white",
            "ticks": ""
           },
           "bgcolor": "#E5ECF6",
           "radialaxis": {
            "gridcolor": "white",
            "linecolor": "white",
            "ticks": ""
           }
          },
          "scene": {
           "xaxis": {
            "backgroundcolor": "#E5ECF6",
            "gridcolor": "white",
            "gridwidth": 2,
            "linecolor": "white",
            "showbackground": true,
            "ticks": "",
            "zerolinecolor": "white"
           },
           "yaxis": {
            "backgroundcolor": "#E5ECF6",
            "gridcolor": "white",
            "gridwidth": 2,
            "linecolor": "white",
            "showbackground": true,
            "ticks": "",
            "zerolinecolor": "white"
           },
           "zaxis": {
            "backgroundcolor": "#E5ECF6",
            "gridcolor": "white",
            "gridwidth": 2,
            "linecolor": "white",
            "showbackground": true,
            "ticks": "",
            "zerolinecolor": "white"
           }
          },
          "shapedefaults": {
           "line": {
            "color": "#2a3f5f"
           }
          },
          "ternary": {
           "aaxis": {
            "gridcolor": "white",
            "linecolor": "white",
            "ticks": ""
           },
           "baxis": {
            "gridcolor": "white",
            "linecolor": "white",
            "ticks": ""
           },
           "bgcolor": "#E5ECF6",
           "caxis": {
            "gridcolor": "white",
            "linecolor": "white",
            "ticks": ""
           }
          },
          "title": {
           "x": 0.05
          },
          "xaxis": {
           "automargin": true,
           "gridcolor": "white",
           "linecolor": "white",
           "ticks": "",
           "title": {
            "standoff": 15
           },
           "zerolinecolor": "white",
           "zerolinewidth": 2
          },
          "yaxis": {
           "automargin": true,
           "gridcolor": "white",
           "linecolor": "white",
           "ticks": "",
           "title": {
            "standoff": 15
           },
           "zerolinecolor": "white",
           "zerolinewidth": 2
          }
         }
        },
        "title": {
         "text": "Character vs Gender vs Alive or not"
        }
       }
      },
      "image/png": "[encoded data removed]",
      "text/html": [
       "<div>                            <div id=\"6ba82ecb-824e-45af-ac66-45ba5d64781a\" class=\"plotly-graph-div\" style=\"height:525px; width:100%;\"></div>            <script type=\"text/javascript\">                require([\"plotly\"], function(Plotly) {                    window.PLOTLYENV=window.PLOTLYENV || {};                                    if (document.getElementById(\"6ba82ecb-824e-45af-ac66-45ba5d64781a\")) {                    Plotly.newPlot(                        \"6ba82ecb-824e-45af-ac66-45ba5d64781a\",                        [{\"marker\": {\"color\": [3, 3, 3, 0, 2, 0, 1, 1, 2, 1, 2, 4, 0, 3, 3, 3, 1, 2, 2, 2, 3, 0, 3, 0, 0, 3, 3, 0, 4, 1, 0, 3, 3, 0, 0, 2, 0, 0, 0, 0, 3, 3, 3, 3, 3, 3, 0, 3, 3, 0, 3, 0, 0, 0, 2, 2, 1, 2, 0, 0, 3, 3, 3, 2, 3, 1, 0, 0, 0, 3, 0, 3, 0, 3, 3, 0, 3, 3, 2, 2, 2, 0, 2, 2, 2, 0, 2, 2, 2, 3, 2, 3, 3, 3, 2, 2, 3, 0, 0, 0, 0, 0, 0, 0, 3, 2, 2, 0, 2, 2, 2, 2, 0, 0, 0, 2, 0, 0, 3, 2, 3, 2, 3, 2, 3, 2, 2, 3, 0, 0, 3, 0, 0, 0, 0, 1, 3, 2, 3, 1, 2, 2, 0, 0, 3, 3, 3, 0, 3, 0, 0, 3, 0, 3, 2, 0, 3, 0, 3, 3, 3, 3, 2, 3, 0, 0, 3, 3, 0, 3, 3, 1, 0, 0, 3, 3, 3, 0, 3, 3, 1, 0, 3, 3, 0, 0, 0, 0, 3, 3, 0, 3, 1, 0, 0, 2, 0, 0, 3, 2, 4, 0, 3, 3, 3, 1, 0, 3, 0, 0, 0, 3, 3, 0, 0, 0, 0, 0, 3, 3, 0, 0], \"line\": {\"color\": [3, 3, 3, 0, 2, 0, 1, 1, 2, 1, 2, 4, 0, 3, 3, 3, 1, 2, 2, 2, 3, 0, 3, 0, 0, 3, 3, 0, 4, 1, 0, 3, 3, 0, 0, 2, 0, 0, 0, 0, 3, 3, 3, 3, 3, 3, 0, 3, 3, 0, 3, 0, 0, 0, 2, 2, 1, 2, 0, 0, 3, 3, 3, 2, 3, 1, 0, 0, 0, 3, 0, 3, 0, 3, 3, 0, 3, 3, 2, 2, 2, 0, 2, 2, 2, 0, 2, 2, 2, 3, 2, 3, 3, 3, 2, 2, 3, 0, 0, 0, 0, 0, 0, 0, 3, 2, 2, 0, 2, 2, 2, 2, 0, 0, 0, 2, 0, 0, 3, 2, 3, 2, 3, 2, 3, 2, 2, 3, 0, 0, 3, 0, 0, 0, 0, 1, 3, 2, 3, 1, 2, 2, 0, 0, 3, 3, 3, 0, 3, 0, 0, 3, 0, 3, 2, 0, 3, 0, 3, 3, 3, 3, 2, 3, 0, 0, 3, 3, 0, 3, 3, 1, 0, 0, 3, 3, 3, 0, 3, 3, 1, 0, 3, 3, 0, 0, 0, 0, 3, 3, 0, 3, 1, 0, 0, 2, 0, 0, 3, 2, 4, 0, 3, 3, 3, 1, 0, 3, 0, 0, 0, 3, 3, 0, 0, 0, 0, 0, 3, 3, 0, 0], \"width\": 12}, \"opacity\": 0.8, \"size\": 10}, \"mode\": \"markers\", \"type\": \"scatter3d\", \"x\": [-1.0523333333333336, -0.2801666666666667, -0.5683333333333334, 2.3585, -0.6008333333333334, 0.5256666666666666, 1.2133333333333334, 0.515, 0.1585, -1.3378333333333332, 0.6083333333333333, 1.2173333333333334, 1.1463333333333332, -1.9131666666666665, -0.20633333333333334, -0.45333333333333337, 0.2851666666666667, -0.9176666666666667, 0.7428333333333333, 0.8901666666666667, -0.3681666666666666, 0.7228333333333334, -1.3766666666666667, 0.08100000000000002, -0.11183333333333333, -1.2209999999999999, -0.4961666666666667, 0.6509999999999999, -0.18749999999999997, 0.29933333333333334, 0.447, -0.7345, -1.414666666666667, 0.4166666666666667, 0.7095000000000001, 0.8895, 0.30350000000000005, 1.2403333333333333, 0.17883333333333332, 0.9153333333333334, -0.8703333333333333, -0.18916666666666668, -0.5026666666666667, -0.2718333333333333, -0.2688333333333333, -0.8215, 0.9068333333333333, -0.148, -2.0356666666666667, 1.3326666666666667, -0.9445, 0.8314999999999998, 0.9603333333333333, 0.2851666666666666, 0.38566666666666666, -0.15766666666666665, 0.29016666666666674, 0.9015, 0.0718333333333333, 0.9161666666666667, -0.7988333333333334, -0.6183333333333333, -0.7136666666666667, -0.14133333333333334, -0.43216666666666664, 0.8185000000000001, 0.5385000000000001, 0.6313333333333333, 1.0725, -0.4678333333333334, 1.006, -1.2826666666666666, 0.5021666666666668, -0.3945, -0.6618333333333334, 0.3388333333333333, -0.1658333333333334, -0.5498333333333334, -0.2788333333333333, 0.4498333333333333, 0.4186666666666667, 0.6698333333333334, 0.17166666666666663, 0.27216666666666667, -0.20116666666666672, 1.4288333333333334, 1.484, 0.9145, 0.5013333333333333, -1.9853333333333332, 0.6128333333333332, -0.33316666666666667, -0.242, -1.0345, 0.08349999999999998, 0.12, -0.997, 0.5708333333333333, 0.852, 0.15150000000000002, 1.3665, -0.1578333333333333, 0.4805, 0.49366666666666664, -2.3805, 0.7788333333333334, 1.0768333333333333, 0.4323333333333334, 1.149, -0.9165000000000001, 0.48550000000000004, -0.039166666666666676, -0.05533333333333331, 0.14616666666666664, 0.4535, -0.3918333333333333, 0.3365, 0.19716666666666668, -1.4223333333333334, 0.62, -0.5955, 0.0788333333333333, -0.22399999999999998, 0.4033333333333333, -1.2988333333333333, 0.33583333333333326, 1.07, -1.8615000000000002, 0.17400000000000002, 0.05250000000000001, -0.12083333333333335, 0.31083333333333335, 0.49900000000000005, 0.07216666666666664, 0.06666666666666668, 0.5376666666666666, -0.7428333333333333, 0.307, -0.9625, -0.5306666666666667, 0.9323333333333333, 0.5488333333333334, 0.06616666666666667, 0.37333333333333335, -0.6663333333333333, -0.7433333333333333, -0.7833333333333333, 0.17666666666666667, -1.2713333333333332, 0.9003333333333332, 1.7489999999999999, -0.5736666666666667, 0.05816666666666667, -0.7399999999999999, 0.9636666666666666, 0.7028333333333334, -0.513, -0.009666666666666665, -0.5488333333333334, -0.429, -0.4095, -1.4465000000000001, 0.2778333333333333, -0.9504999999999999, 0.037166666666666674, 0.21183333333333332, -1.4240000000000002, -0.4046666666666667, 0.23066666666666666, -0.7199999999999999, -0.5718333333333333, -1.3205, 0.7293333333333333, 0.10566666666666664, -0.5386666666666667, -1.2361666666666669, -0.8461666666666666, 0.5618333333333333, -0.8428333333333334, -1.192, -1.6123333333333332, 0.2555, -0.3383333333333334, -1.3096666666666665, -0.0030000000000000213, 1.3531666666666666, 1.438, 1.3555, -0.5565, -0.6798333333333333, 0.3313333333333333, -0.20766666666666667, -1.3881666666666668, 0.6763333333333333, -0.026666666666666672, 0.4878333333333333, -0.10433333333333332, -0.08383333333333333, -0.3878333333333333, 0.6993333333333333, 0.16333333333333333, 1.4163333333333332, -1.2870000000000001, -0.615, -0.3721666666666666, -0.19533333333333336, 1.2196666666666667, -0.8576666666666667, 1.1978333333333333, 0.9521666666666667, 0.5446666666666666, -2.3256666666666663, -1.5361666666666667, 0.09916666666666668, 0.5736666666666667, 1.6698333333333337, 1.711666666666667, 0.592, -0.47533333333333333, -0.32316666666666666, 1.0191666666666666, 0.0010000000000000009], \"y\": [-0.529, -0.529, -0.252, -0.498, 1.631, -0.282, 1.255, 0.828, 2.164, 0.039, 2.079, 0.26, -0.539, -0.549, 0.034, -0.362, -0.383, 2.391, 2.053, 1.998, -0.534, 0.125, -0.639, -0.584, -0.534, -0.534, -0.609, -0.503, -0.458, 0.426, -0.634, -0.483, -0.619, -0.589, -0.624, 1.064, -0.67, 0.16, -0.443, -0.599, -0.599, -0.619, -0.584, 0.532, -0.634, -0.624, -0.665, -0.66, -0.352, -0.609, -0.473, -0.66, -0.383, -0.66, 2.335, 1.014, 0.15, 1.818, -0.433, 0.059, -0.654, -0.639, -0.594, 2.396, -0.167, 1.019, 0.542, -0.629, -0.539, -0.614, -0.483, -0.559, -0.639, -0.639, -0.564, -0.599, -0.68, -0.66, 1.556, 1.611, 1.169, 0.597, 0.697, 0.798, 2.823, 0.416, 0.954, 1.194, 1.441, 1.517, 1.23, 0.416, -0.352, -0.539, 1.285, 1.22, -0.624, -0.609, -0.619, -0.589, -0.468, -0.67, -0.66, -0.66, -0.584, 2.109, 1.456, -0.513, 1.954, 1.406, 3.149, 1.265, 0.105, 0.11, -0.252, 2.772, 0.1, -0.574, -0.453, 3.344, -0.589, 3.621, -0.529, 2.169, -0.443, 3.073, 1.08, -0.559, -0.604, -0.549, -0.619, -0.634, -0.569, -0.675, -0.473, 1.421, -0.453, 1.361, -0.599, 0.924, 2.26, 1.672, 0.335, -0.529, -0.634, -0.639, -0.68, -0.649, -0.644, -0.665, 0.682, -0.66, -0.644, -0.619, 1.411, -0.634, -0.619, -0.66, -0.584, -0.675, -0.654, -0.67, 1.522, -0.665, -0.634, -0.634, -0.654, -0.665, -0.665, -0.66, 0.22, 1.923, -0.629, -0.649, -0.654, -0.549, -0.609, -0.629, -0.639, -0.574, -0.624, -0.614, -0.654, -0.609, -0.639, -0.584, -0.594, -0.584, -0.654, -0.634, -0.624, -0.639, -0.639, -0.654, -0.228, 0.868, -0.594, -0.649, -0.076, 0.944, -0.061, -0.564, -0.654, -0.644, -0.644, -0.619, -0.569, -0.644, -0.498, -0.67, -0.539, -0.639, -0.644, -0.649, -0.66, -0.624, -0.619, -0.327, -0.644, -0.67, -0.644, -0.649], \"z\": [0.772, 0.711, 0.556, 0.759, 0.306, 1.25, -2.338, -4.617, 0.011, -2.07, -0.979, 4.767, -0.05, 0.467, -0.379, 0.073, -1.654, -1.388, 0.891, 0.156, 0.293, 0.829, -0.251, 0.585, -0.031, 1.144, 1.41, 0.666, 4.527, -2.117, -0.227, -0.114, 1.188, 0.72, 0.377, -0.245, 0.273, 0.128, -0.163, -1.073, 0.169, 0.297, -0.141, 0.343, -0.257, -0.324, 0.147, 0.56, -0.019, -0.328, 0.225, 0.355, 0.325, 0.894, -0.555, 0.333, -2.577, -0.361, 0.731, 1.032, 0.358, 1.256, 0.824, -1.344, 0.157, -2.263, -0.384, 0.88, 1.074, 1.154, 1.417, 0.84, 0.335, -0.046, 0.667, -0.659, 0.562, 0.478, -0.751, 0.686, 1.057, 0.84, -0.793, 0.161, 0.635, -0.715, -0.049, -0.181, -0.567, 0.518, -0.01, -0.205, -0.881, 0.664, -0.251, -0.218, 0.28, -0.861, -0.998, -0.476, -0.988, -1.192, 0.772, 0.253, -0.453, 0.343, -1.054, 0.489, 0.704, 1.072, 0.045, 0.418, 0.244, 0.797, 0.944, 0.665, -0.215, -0.354, -0.016, -0.797, -0.58, -1.728, 0.763, -0.041, -0.02, -0.361, 0.773, -1.392, -0.531, 0.895, 0.152, 0.588, -0.129, 1.004, -0.087, -2.682, -0.649, -0.9, 0.83, -1.149, -0.075, 0.78, 0.179, -0.11, 1.421, 0.361, -0.633, 0.263, -0.6, -0.566, 0.233, 0.089, 0.202, -0.163, -0.254, 0.489, -0.247, 0.131, 0.096, -0.515, 0.28, -0.098, 0.247, -0.064, -0.464, -0.626, 0.674, 0.099, 0.306, 0.458, 0.604, -1.513, -0.471, 0.205, -0.309, -0.669, -0.913, 0.228, 0.145, 0.008, -2.213, 0.251, -0.319, 0.329, -0.068, -0.333, 0.479, -0.862, 0.351, -0.476, 0.306, 1.308, -2.03, -0.223, -0.386, -0.074, -0.57, -0.643, 1.352, -0.196, 4.814, -1.366, 0.399, 0.162, -0.002, -1.899, 0.062, -0.372, -0.838, 0.467, -0.248, 0.369, 0.096, 0.597, -0.704, -0.661, -0.241, -0.713, -0.143, 0.166, -0.516, -0.258]}],                        {\"margin\": {\"b\": 0, \"l\": 0, \"r\": 0, \"t\": 0}, \"scene\": {\"xaxis\": {\"title\": {\"text\": \"OverallQuality\"}}, \"yaxis\": {\"title\": {\"text\": \"white\"}}, \"zaxis\": {\"title\": {\"text\": \"MathLevelRate\"}}}, \"template\": {\"data\": {\"bar\": [{\"error_x\": {\"color\": \"#2a3f5f\"}, \"error_y\": {\"color\": \"#2a3f5f\"}, \"marker\": {\"line\": {\"color\": \"#E5ECF6\", \"width\": 0.5}}, \"type\": \"bar\"}], \"barpolar\": [{\"marker\": {\"line\": {\"color\": \"#E5ECF6\", \"width\": 0.5}}, \"type\": \"barpolar\"}], \"carpet\": [{\"aaxis\": {\"endlinecolor\": \"#2a3f5f\", \"gridcolor\": \"white\", \"linecolor\": \"white\", \"minorgridcolor\": \"white\", \"startlinecolor\": \"#2a3f5f\"}, \"baxis\": {\"endlinecolor\": \"#2a3f5f\", \"gridcolor\": \"white\", \"linecolor\": \"white\", \"minorgridcolor\": \"white\", \"startlinecolor\": \"#2a3f5f\"}, \"type\": \"carpet\"}], \"choropleth\": [{\"colorbar\": {\"outlinewidth\": 0, \"ticks\": \"\"}, \"type\": \"choropleth\"}], \"contour\": [{\"colorbar\": {\"outlinewidth\": 0, \"ticks\": \"\"}, \"colorscale\": [[0.0, \"#0d0887\"], [0.1111111111111111, \"#46039f\"], [0.2222222222222222, \"#7201a8\"], [0.3333333333333333, \"#9c179e\"], [0.4444444444444444, \"#bd3786\"], [0.5555555555555556, \"#d8576b\"], [0.6666666666666666, \"#ed7953\"], [0.7777777777777778, \"#fb9f3a\"], [0.8888888888888888, \"#fdca26\"], [1.0, \"#f0f921\"]], \"type\": \"contour\"}], \"contourcarpet\": [{\"colorbar\": {\"outlinewidth\": 0, \"ticks\": \"\"}, \"type\": \"contourcarpet\"}], \"heatmap\": [{\"colorbar\": {\"outlinewidth\": 0, \"ticks\": \"\"}, \"colorscale\": [[0.0, \"#0d0887\"], [0.1111111111111111, \"#46039f\"], [0.2222222222222222, \"#7201a8\"], [0.3333333333333333, \"#9c179e\"], [0.4444444444444444, \"#bd3786\"], [0.5555555555555556, \"#d8576b\"], [0.6666666666666666, \"#ed7953\"], [0.7777777777777778, \"#fb9f3a\"], [0.8888888888888888, \"#fdca26\"], [1.0, \"#f0f921\"]], \"type\": \"heatmap\"}], \"heatmapgl\": [{\"colorbar\": {\"outlinewidth\": 0, \"ticks\": \"\"}, \"colorscale\": [[0.0, \"#0d0887\"], [0.1111111111111111, \"#46039f\"], [0.2222222222222222, \"#7201a8\"], [0.3333333333333333, \"#9c179e\"], [0.4444444444444444, \"#bd3786\"], [0.5555555555555556, \"#d8576b\"], [0.6666666666666666, \"#ed7953\"], [0.7777777777777778, \"#fb9f3a\"], [0.8888888888888888, \"#fdca26\"], [1.0, \"#f0f921\"]], \"type\": \"heatmapgl\"}], \"histogram\": [{\"marker\": {\"colorbar\": {\"outlinewidth\": 0, \"ticks\": \"\"}}, \"type\": \"histogram\"}], \"histogram2d\": [{\"colorbar\": {\"outlinewidth\": 0, \"ticks\": \"\"}, \"colorscale\": [[0.0, \"#0d0887\"], [0.1111111111111111, \"#46039f\"], [0.2222222222222222, \"#7201a8\"], [0.3333333333333333, \"#9c179e\"], [0.4444444444444444, \"#bd3786\"], [0.5555555555555556, \"#d8576b\"], [0.6666666666666666, \"#ed7953\"], [0.7777777777777778, \"#fb9f3a\"], [0.8888888888888888, \"#fdca26\"], [1.0, \"#f0f921\"]], \"type\": \"histogram2d\"}], \"histogram2dcontour\": [{\"colorbar\": {\"outlinewidth\": 0, \"ticks\": \"\"}, \"colorscale\": [[0.0, \"#0d0887\"], [0.1111111111111111, \"#46039f\"], [0.2222222222222222, \"#7201a8\"], [0.3333333333333333, \"#9c179e\"], [0.4444444444444444, \"#bd3786\"], [0.5555555555555556, \"#d8576b\"], [0.6666666666666666, \"#ed7953\"], [0.7777777777777778, \"#fb9f3a\"], [0.8888888888888888, \"#fdca26\"], [1.0, \"#f0f921\"]], \"type\": \"histogram2dcontour\"}], \"mesh3d\": [{\"colorbar\": {\"outlinewidth\": 0, \"ticks\": \"\"}, \"type\": \"mesh3d\"}], \"parcoords\": [{\"line\": {\"colorbar\": {\"outlinewidth\": 0, \"ticks\": \"\"}}, \"type\": \"parcoords\"}], \"pie\": [{\"automargin\": true, \"type\": \"pie\"}], \"scatter\": [{\"marker\": {\"colorbar\": {\"outlinewidth\": 0, \"ticks\": \"\"}}, \"type\": \"scatter\"}], \"scatter3d\": [{\"line\": {\"colorbar\": {\"outlinewidth\": 0, \"ticks\": \"\"}}, \"marker\": {\"colorbar\": {\"outlinewidth\": 0, \"ticks\": \"\"}}, \"type\": \"scatter3d\"}], \"scattercarpet\": [{\"marker\": {\"colorbar\": {\"outlinewidth\": 0, \"ticks\": \"\"}}, \"type\": \"scattercarpet\"}], \"scattergeo\": [{\"marker\": {\"colorbar\": {\"outlinewidth\": 0, \"ticks\": \"\"}}, \"type\": \"scattergeo\"}], \"scattergl\": [{\"marker\": {\"colorbar\": {\"outlinewidth\": 0, \"ticks\": \"\"}}, \"type\": \"scattergl\"}], \"scattermapbox\": [{\"marker\": {\"colorbar\": {\"outlinewidth\": 0, \"ticks\": \"\"}}, \"type\": \"scattermapbox\"}], \"scatterpolar\": [{\"marker\": {\"colorbar\": {\"outlinewidth\": 0, \"ticks\": \"\"}}, \"type\": \"scatterpolar\"}], \"scatterpolargl\": [{\"marker\": {\"colorbar\": {\"outlinewidth\": 0, \"ticks\": \"\"}}, \"type\": \"scatterpolargl\"}], \"scatterternary\": [{\"marker\": {\"colorbar\": {\"outlinewidth\": 0, \"ticks\": \"\"}}, \"type\": \"scatterternary\"}], \"surface\": [{\"colorbar\": {\"outlinewidth\": 0, \"ticks\": \"\"}, \"colorscale\": [[0.0, \"#0d0887\"], [0.1111111111111111, \"#46039f\"], [0.2222222222222222, \"#7201a8\"], [0.3333333333333333, \"#9c179e\"], [0.4444444444444444, \"#bd3786\"], [0.5555555555555556, \"#d8576b\"], [0.6666666666666666, \"#ed7953\"], [0.7777777777777778, \"#fb9f3a\"], [0.8888888888888888, \"#fdca26\"], [1.0, \"#f0f921\"]], \"type\": \"surface\"}], \"table\": [{\"cells\": {\"fill\": {\"color\": \"#EBF0F8\"}, \"line\": {\"color\": \"white\"}}, \"header\": {\"fill\": {\"color\": \"#C8D4E3\"}, \"line\": {\"color\": \"white\"}}, \"type\": \"table\"}]}, \"layout\": {\"annotationdefaults\": {\"arrowcolor\": \"#2a3f5f\", \"arrowhead\": 0, \"arrowwidth\": 1}, \"autotypenumbers\": \"strict\", \"coloraxis\": {\"colorbar\": {\"outlinewidth\": 0, \"ticks\": \"\"}}, \"colorscale\": {\"diverging\": [[0, \"#8e0152\"], [0.1, \"#c51b7d\"], [0.2, \"#de77ae\"], [0.3, \"#f1b6da\"], [0.4, \"#fde0ef\"], [0.5, \"#f7f7f7\"], [0.6, \"#e6f5d0\"], [0.7, \"#b8e186\"], [0.8, \"#7fbc41\"], [0.9, \"#4d9221\"], [1, \"#276419\"]], \"sequential\": [[0.0, \"#0d0887\"], [0.1111111111111111, \"#46039f\"], [0.2222222222222222, \"#7201a8\"], [0.3333333333333333, \"#9c179e\"], [0.4444444444444444, \"#bd3786\"], [0.5555555555555556, \"#d8576b\"], [0.6666666666666666, \"#ed7953\"], [0.7777777777777778, \"#fb9f3a\"], [0.8888888888888888, \"#fdca26\"], [1.0, \"#f0f921\"]], \"sequentialminus\": [[0.0, \"#0d0887\"], [0.1111111111111111, \"#46039f\"], [0.2222222222222222, \"#7201a8\"], [0.3333333333333333, \"#9c179e\"], [0.4444444444444444, \"#bd3786\"], [0.5555555555555556, \"#d8576b\"], [0.6666666666666666, \"#ed7953\"], [0.7777777777777778, \"#fb9f3a\"], [0.8888888888888888, \"#fdca26\"], [1.0, \"#f0f921\"]]}, \"colorway\": [\"#636efa\", \"#EF553B\", \"#00cc96\", \"#ab63fa\", \"#FFA15A\", \"#19d3f3\", \"#FF6692\", \"#B6E880\", \"#FF97FF\", \"#FECB52\"], \"font\": {\"color\": \"#2a3f5f\"}, \"geo\": {\"bgcolor\": \"white\", \"lakecolor\": \"white\", \"landcolor\": \"#E5ECF6\", \"showlakes\": true, \"showland\": true, \"subunitcolor\": \"white\"}, \"hoverlabel\": {\"align\": \"left\"}, \"hovermode\": \"closest\", \"mapbox\": {\"style\": \"light\"}, \"paper_bgcolor\": \"white\", \"plot_bgcolor\": \"#E5ECF6\", \"polar\": {\"angularaxis\": {\"gridcolor\": \"white\", \"linecolor\": \"white\", \"ticks\": \"\"}, \"bgcolor\": \"#E5ECF6\", \"radialaxis\": {\"gridcolor\": \"white\", \"linecolor\": \"white\", \"ticks\": \"\"}}, \"scene\": {\"xaxis\": {\"backgroundcolor\": \"#E5ECF6\", \"gridcolor\": \"white\", \"gridwidth\": 2, \"linecolor\": \"white\", \"showbackground\": true, \"ticks\": \"\", \"zerolinecolor\": \"white\"}, \"yaxis\": {\"backgroundcolor\": \"#E5ECF6\", \"gridcolor\": \"white\", \"gridwidth\": 2, \"linecolor\": \"white\", \"showbackground\": true, \"ticks\": \"\", \"zerolinecolor\": \"white\"}, \"zaxis\": {\"backgroundcolor\": \"#E5ECF6\", \"gridcolor\": \"white\", \"gridwidth\": 2, \"linecolor\": \"white\", \"showbackground\": true, \"ticks\": \"\", \"zerolinecolor\": \"white\"}}, \"shapedefaults\": {\"line\": {\"color\": \"#2a3f5f\"}}, \"ternary\": {\"aaxis\": {\"gridcolor\": \"white\", \"linecolor\": \"white\", \"ticks\": \"\"}, \"baxis\": {\"gridcolor\": \"white\", \"linecolor\": \"white\", \"ticks\": \"\"}, \"bgcolor\": \"#E5ECF6\", \"caxis\": {\"gridcolor\": \"white\", \"linecolor\": \"white\", \"ticks\": \"\"}}, \"title\": {\"x\": 0.05}, \"xaxis\": {\"automargin\": true, \"gridcolor\": \"white\", \"linecolor\": \"white\", \"ticks\": \"\", \"title\": {\"standoff\": 15}, \"zerolinecolor\": \"white\", \"zerolinewidth\": 2}, \"yaxis\": {\"automargin\": true, \"gridcolor\": \"white\", \"linecolor\": \"white\", \"ticks\": \"\", \"title\": {\"standoff\": 15}, \"zerolinecolor\": \"white\", \"zerolinewidth\": 2}}}, \"title\": {\"text\": \"Character vs Gender vs Alive or not\"}},                        {\"responsive\": true}                    ).then(function(){\n",
       "                            \n",
       "var gd = document.getElementById('6ba82ecb-824e-45af-ac66-45ba5d64781a');\n",
       "var x = new MutationObserver(function (mutations, observer) {{\n",
       "        var display = window.getComputedStyle(gd).display;\n",
       "        if (!display || display === 'none') {{\n",
       "            console.log([gd, 'removed!']);\n",
       "            Plotly.purge(gd);\n",
       "            observer.disconnect();\n",
       "        }}\n",
       "}});\n",
       "\n",
       "// Listen for the removal of the full notebook cells\n",
       "var notebookContainer = gd.closest('#notebook-container');\n",
       "if (notebookContainer) {{\n",
       "    x.observe(notebookContainer, {childList: true});\n",
       "}}\n",
       "\n",
       "// Listen for the clearing of the current output cell\n",
       "var outputEl = gd.closest('.output');\n",
       "if (outputEl) {{\n",
       "    x.observe(outputEl, {childList: true});\n",
       "}}\n",
       "\n",
       "                        })                };                });            </script>        </div>"
      ]
     },
     "metadata": {},
     "output_type": "display_data"
    }
   ],
   "source": [
    "pcre['labels'] =  labels\n",
    "trace1 = go.Scatter3d(\n",
    "    x= pcre['OverallQuality'],\n",
    "    y= pcre['white'],\n",
    "    z= pcre['MathLevelRate'],\n",
    "    mode='markers',\n",
    "     marker=dict(\n",
    "        color = pcre['labels'], \n",
    "        size= 10,\n",
    "        line=dict(\n",
    "            color= pcre['labels'],\n",
    "            width= 12\n",
    "        ),\n",
    "        opacity=0.8\n",
    "     )\n",
    ")\n",
    "df = [trace1]\n",
    "\n",
    "layout = go.Layout(\n",
    "    title = 'Character vs Gender vs Alive or not',\n",
    "    margin=dict(\n",
    "        l=0,\n",
    "        r=0,\n",
    "        b=0,\n",
    "        t=0  \n",
    "    ),\n",
    "    scene = dict(\n",
    "            xaxis = dict(title  = 'OverallQuality'),\n",
    "            yaxis = dict(title  = 'white'),\n",
    "            zaxis = dict(title  = 'MathLevelRate')\n",
    "        )\n",
    ")\n",
    "\n",
    "fig = go.Figure(data=df, layout = layout)\n",
    "py.iplot(fig)"
   ]
  },
  {
   "cell_type": "code",
   "execution_count": 55,
   "metadata": {
    "scrolled": true
   },
   "outputs": [
    {
     "data": {
      "text/plain": [
       "<AxesSubplot:title={'center':'eni_pct'}, xlabel='Cluster'>"
      ]
     },
     "execution_count": 55,
     "metadata": {},
     "output_type": "execute_result"
    },
    {
     "data": {
      "image/png": "[encoded data removed]",
      "text/plain": [
       "<Figure size 576x576 with 1 Axes>"
      ]
     },
     "metadata": {},
     "output_type": "display_data"
    }
   ],
   "source": [
    "sns.set_style(\"whitegrid\")\n",
    "pcre.boxplot('eni_pct','Cluster',rot = 30,figsize=(8, 8))"
   ]
  },
  {
   "cell_type": "code",
   "execution_count": 118,
   "metadata": {},
   "outputs": [],
   "source": [
    "final = pd.merge(data, pcre, left_on='dbn', right_on='dbn').set_index('Cluster')"
   ]
  },
  {
   "cell_type": "code",
   "execution_count": 119,
   "metadata": {},
   "outputs": [],
   "source": [
    "cluster0 = final.loc[final.index.isin([0])]\n",
    "cluster1 = final.loc[final.index.isin([1])]\n",
    "cluster2 = final.loc[final.index.isin([2])]\n",
    "cluster3 = final.loc[final.index.isin([3])]\n",
    "cluster4 = final.loc[final.index.isin([4])]"
   ]
  },
  {
   "cell_type": "markdown",
   "metadata": {},
   "source": [
    "## Normalisation"
   ]
  },
  {
   "cell_type": "code",
   "execution_count": 52,
   "metadata": {},
   "outputs": [
    {
     "data": {
      "image/png": "[encoded data removed]",
      "text/plain": [
       "<Figure size 432x288 with 1 Axes>"
      ]
     },
     "metadata": {},
     "output_type": "display_data"
    }
   ],
   "source": [
    "#sns.histplot(x=pcre['Raised_power_value'])\n",
    "ax = sns.histplot(x=data['eni_pct'])\n",
    "ax.set(xlabel= 'Eonomic Need Index', ylabel='Counts', title='Frequency of Eonomic Need Index')\n",
    "plt.show()"
   ]
  },
  {
   "cell_type": "code",
   "execution_count": 76,
   "metadata": {},
   "outputs": [],
   "source": [
    "from scipy.stats import boxcox\n",
    "import pylab"
   ]
  },
  {
   "cell_type": "code",
   "execution_count": 56,
   "metadata": {},
   "outputs": [],
   "source": [
    "skwed_dist = data['eni_pct']"
   ]
  },
  {
   "cell_type": "code",
   "execution_count": null,
   "metadata": {},
   "outputs": [],
   "source": [
    "skewed_box_cox, lmda = stats.boxcox(skwed_dist)"
   ]
  },
  {
   "cell_type": "code",
   "execution_count": 73,
   "metadata": {},
   "outputs": [
    {
     "data": {
      "image/png": "[encoded data removed]",
      "text/plain": [
       "<Figure size 432x288 with 1 Axes>"
      ]
     },
     "metadata": {},
     "output_type": "display_data"
    }
   ],
   "source": [
    "ax = sns.histplot(x=skewed_box_cox, kde=True)\n",
    "ax.set(xlabel= 'Eonomic Need Index', ylabel='Counts', title='Frequency of Eonomic Need Index', xlim=[-0.6,0])\n",
    "plt.show()"
   ]
  },
  {
   "cell_type": "code",
   "execution_count": 77,
   "metadata": {},
   "outputs": [
    {
     "data": {
      "image/png": "[encoded data removed]",
      "text/plain": [
       "<Figure size 432x288 with 1 Axes>"
      ]
     },
     "metadata": {},
     "output_type": "display_data"
    },
    {
     "name": "stdout",
     "output_type": "stream",
     "text": [
      "lambda parameter for Box-Cox Transformation is: 1.6959627608315422\n"
     ]
    }
   ],
   "source": [
    "stats.probplot(skewed_box_cox, dist='norm', plot=pylab)\n",
    "pylab.show()\n",
    "print (\"lambda parameter for Box-Cox Transformation is:\",lmda)"
   ]
  },
  {
   "cell_type": "markdown",
   "metadata": {},
   "source": [
    "### can be fully nomalised, so could not apply ANOVA"
   ]
  },
  {
   "cell_type": "markdown",
   "metadata": {},
   "source": [
    "## Try Kruskal-Wallis"
   ]
  },
  {
   "cell_type": "code",
   "execution_count": 126,
   "metadata": {},
   "outputs": [
    {
     "data": {
      "text/plain": [
       "KruskalResult(statistic=83.75528501009484, pvalue=2.7861329980424607e-17)"
      ]
     },
     "execution_count": 126,
     "metadata": {},
     "output_type": "execute_result"
    }
   ],
   "source": [
    "ctrl = cluster0['eni_pct_x']\n",
    "trt1 = cluster1['eni_pct_x']\n",
    "trt2 = cluster2['eni_pct_x']\n",
    "ss23 = cluster3['eni_pct_x']\n",
    "sser = cluster4['eni_pct_x']\n",
    "stats.kruskal(ctrl, trt1, trt2, ss23, sser)"
   ]
  },
  {
   "cell_type": "code",
   "execution_count": null,
   "metadata": {},
   "outputs": [],
   "source": []
  }
 ],
 "metadata": {
  "kernelspec": {
   "display_name": "Python 3",
   "language": "python",
   "name": "python3"
  },
  "language_info": {
   "codemirror_mode": {
    "name": "ipython",
    "version": 3
   },
   "file_extension": ".py",
   "mimetype": "text/x-python",
   "name": "python",
   "nbconvert_exporter": "python",
   "pygments_lexer": "ipython3",
   "version": "3.7.8"
  }
 },
 "nbformat": 4,
 "nbformat_minor": 4
}
